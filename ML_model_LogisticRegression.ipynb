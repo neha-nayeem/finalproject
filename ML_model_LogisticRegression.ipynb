{
 "cells": [
  {
   "cell_type": "code",
   "execution_count": 2,
   "metadata": {},
   "outputs": [
    {
     "name": "stdout",
     "output_type": "stream",
     "text": [
      "Requirement already up-to-date: sklearn in c:\\users\\jj\\anaconda3\\lib\\site-packages (0.0)\n",
      "Requirement already satisfied, skipping upgrade: scikit-learn in c:\\users\\jj\\anaconda3\\lib\\site-packages (from sklearn) (0.22.1)\n",
      "Requirement already satisfied, skipping upgrade: numpy>=1.11.0 in c:\\users\\jj\\anaconda3\\lib\\site-packages (from scikit-learn->sklearn) (1.18.1)\n",
      "Requirement already satisfied, skipping upgrade: joblib>=0.11 in c:\\users\\jj\\anaconda3\\lib\\site-packages (from scikit-learn->sklearn) (0.14.1)\n",
      "Requirement already satisfied, skipping upgrade: scipy>=0.17.0 in c:\\users\\jj\\anaconda3\\lib\\site-packages (from scikit-learn->sklearn) (1.4.1)\n"
     ]
    }
   ],
   "source": [
    "# Update sklearn to prevent version mismatches\n",
    "!pip install sklearn --upgrade"
   ]
  },
  {
   "cell_type": "code",
   "execution_count": 3,
   "metadata": {},
   "outputs": [
    {
     "name": "stdout",
     "output_type": "stream",
     "text": [
      "Requirement already satisfied: joblib in c:\\users\\jj\\anaconda3\\lib\\site-packages (0.14.1)\n"
     ]
    }
   ],
   "source": [
    "# install joblib. This will be used to save your model. \n",
    "!pip install joblib\n",
    "import joblib"
   ]
  },
  {
   "cell_type": "code",
   "execution_count": 4,
   "metadata": {},
   "outputs": [],
   "source": [
    "# dependency\n",
    "import matplotlib.pyplot as plt\n",
    "import numpy as np\n",
    "import pandas as pd"
   ]
  },
  {
   "cell_type": "code",
   "execution_count": 5,
   "metadata": {},
   "outputs": [
    {
     "data": {
      "text/html": [
       "<div>\n",
       "<style scoped>\n",
       "    .dataframe tbody tr th:only-of-type {\n",
       "        vertical-align: middle;\n",
       "    }\n",
       "\n",
       "    .dataframe tbody tr th {\n",
       "        vertical-align: top;\n",
       "    }\n",
       "\n",
       "    .dataframe thead th {\n",
       "        text-align: right;\n",
       "    }\n",
       "</style>\n",
       "<table border=\"1\" class=\"dataframe\">\n",
       "  <thead>\n",
       "    <tr style=\"text-align: right;\">\n",
       "      <th></th>\n",
       "      <th>X</th>\n",
       "      <th>Y</th>\n",
       "      <th>Index_</th>\n",
       "      <th>ACCNUM</th>\n",
       "      <th>DATE</th>\n",
       "      <th>TIME</th>\n",
       "      <th>HOUR</th>\n",
       "      <th>STREET1</th>\n",
       "      <th>STREET2</th>\n",
       "      <th>OFFSET</th>\n",
       "      <th>...</th>\n",
       "      <th>TRUCK</th>\n",
       "      <th>TRSN_CITY_VEH</th>\n",
       "      <th>EMERG_VEH</th>\n",
       "      <th>SPEEDING</th>\n",
       "      <th>AG_DRIV</th>\n",
       "      <th>REDLIGHT</th>\n",
       "      <th>ALCOHOL</th>\n",
       "      <th>DISABILITY</th>\n",
       "      <th>Hood_ID</th>\n",
       "      <th>Neighbourhood</th>\n",
       "    </tr>\n",
       "  </thead>\n",
       "  <tbody>\n",
       "    <tr>\n",
       "      <th>0</th>\n",
       "      <td>-8829728.092</td>\n",
       "      <td>5419070.899</td>\n",
       "      <td>3389067</td>\n",
       "      <td>893184</td>\n",
       "      <td>2006/01/01 05:00:00+00</td>\n",
       "      <td>236</td>\n",
       "      <td>2</td>\n",
       "      <td>WOODBINE AVE</td>\n",
       "      <td>O CONNOR DR</td>\n",
       "      <td>Unknown</td>\n",
       "      <td>...</td>\n",
       "      <td>No</td>\n",
       "      <td>No</td>\n",
       "      <td>No</td>\n",
       "      <td>Yes</td>\n",
       "      <td>Yes</td>\n",
       "      <td>No</td>\n",
       "      <td>Yes</td>\n",
       "      <td>No</td>\n",
       "      <td>60</td>\n",
       "      <td>Woodbine-Lumsden (60)</td>\n",
       "    </tr>\n",
       "    <tr>\n",
       "      <th>1</th>\n",
       "      <td>-8829728.092</td>\n",
       "      <td>5419070.899</td>\n",
       "      <td>3389068</td>\n",
       "      <td>893184</td>\n",
       "      <td>2006/01/01 05:00:00+00</td>\n",
       "      <td>236</td>\n",
       "      <td>2</td>\n",
       "      <td>WOODBINE AVE</td>\n",
       "      <td>O CONNOR DR</td>\n",
       "      <td>Unknown</td>\n",
       "      <td>...</td>\n",
       "      <td>No</td>\n",
       "      <td>No</td>\n",
       "      <td>No</td>\n",
       "      <td>Yes</td>\n",
       "      <td>Yes</td>\n",
       "      <td>No</td>\n",
       "      <td>Yes</td>\n",
       "      <td>No</td>\n",
       "      <td>60</td>\n",
       "      <td>Woodbine-Lumsden (60)</td>\n",
       "    </tr>\n",
       "    <tr>\n",
       "      <th>2</th>\n",
       "      <td>-8829728.092</td>\n",
       "      <td>5419070.899</td>\n",
       "      <td>3389069</td>\n",
       "      <td>893184</td>\n",
       "      <td>2006/01/01 05:00:00+00</td>\n",
       "      <td>236</td>\n",
       "      <td>2</td>\n",
       "      <td>WOODBINE AVE</td>\n",
       "      <td>O CONNOR DR</td>\n",
       "      <td>Unknown</td>\n",
       "      <td>...</td>\n",
       "      <td>No</td>\n",
       "      <td>No</td>\n",
       "      <td>No</td>\n",
       "      <td>Yes</td>\n",
       "      <td>Yes</td>\n",
       "      <td>No</td>\n",
       "      <td>Yes</td>\n",
       "      <td>No</td>\n",
       "      <td>60</td>\n",
       "      <td>Woodbine-Lumsden (60)</td>\n",
       "    </tr>\n",
       "    <tr>\n",
       "      <th>3</th>\n",
       "      <td>-8829728.092</td>\n",
       "      <td>5419070.899</td>\n",
       "      <td>3389070</td>\n",
       "      <td>893184</td>\n",
       "      <td>2006/01/01 05:00:00+00</td>\n",
       "      <td>236</td>\n",
       "      <td>2</td>\n",
       "      <td>WOODBINE AVE</td>\n",
       "      <td>O CONNOR DR</td>\n",
       "      <td>Unknown</td>\n",
       "      <td>...</td>\n",
       "      <td>No</td>\n",
       "      <td>No</td>\n",
       "      <td>No</td>\n",
       "      <td>Yes</td>\n",
       "      <td>Yes</td>\n",
       "      <td>No</td>\n",
       "      <td>Yes</td>\n",
       "      <td>No</td>\n",
       "      <td>60</td>\n",
       "      <td>Woodbine-Lumsden (60)</td>\n",
       "    </tr>\n",
       "    <tr>\n",
       "      <th>4</th>\n",
       "      <td>-8829728.092</td>\n",
       "      <td>5419070.899</td>\n",
       "      <td>3389071</td>\n",
       "      <td>893184</td>\n",
       "      <td>2006/01/01 05:00:00+00</td>\n",
       "      <td>236</td>\n",
       "      <td>2</td>\n",
       "      <td>WOODBINE AVE</td>\n",
       "      <td>O CONNOR DR</td>\n",
       "      <td>Unknown</td>\n",
       "      <td>...</td>\n",
       "      <td>No</td>\n",
       "      <td>No</td>\n",
       "      <td>No</td>\n",
       "      <td>Yes</td>\n",
       "      <td>Yes</td>\n",
       "      <td>No</td>\n",
       "      <td>Yes</td>\n",
       "      <td>No</td>\n",
       "      <td>60</td>\n",
       "      <td>Woodbine-Lumsden (60)</td>\n",
       "    </tr>\n",
       "  </tbody>\n",
       "</table>\n",
       "<p>5 rows × 42 columns</p>\n",
       "</div>"
      ],
      "text/plain": [
       "             X            Y   Index_  ACCNUM                    DATE  TIME  \\\n",
       "0 -8829728.092  5419070.899  3389067  893184  2006/01/01 05:00:00+00   236   \n",
       "1 -8829728.092  5419070.899  3389068  893184  2006/01/01 05:00:00+00   236   \n",
       "2 -8829728.092  5419070.899  3389069  893184  2006/01/01 05:00:00+00   236   \n",
       "3 -8829728.092  5419070.899  3389070  893184  2006/01/01 05:00:00+00   236   \n",
       "4 -8829728.092  5419070.899  3389071  893184  2006/01/01 05:00:00+00   236   \n",
       "\n",
       "   HOUR       STREET1      STREET2   OFFSET  ... TRUCK TRSN_CITY_VEH  \\\n",
       "0     2  WOODBINE AVE  O CONNOR DR  Unknown  ...    No            No   \n",
       "1     2  WOODBINE AVE  O CONNOR DR  Unknown  ...    No            No   \n",
       "2     2  WOODBINE AVE  O CONNOR DR  Unknown  ...    No            No   \n",
       "3     2  WOODBINE AVE  O CONNOR DR  Unknown  ...    No            No   \n",
       "4     2  WOODBINE AVE  O CONNOR DR  Unknown  ...    No            No   \n",
       "\n",
       "  EMERG_VEH  SPEEDING  AG_DRIV  REDLIGHT ALCOHOL DISABILITY Hood_ID  \\\n",
       "0        No       Yes      Yes        No     Yes         No      60   \n",
       "1        No       Yes      Yes        No     Yes         No      60   \n",
       "2        No       Yes      Yes        No     Yes         No      60   \n",
       "3        No       Yes      Yes        No     Yes         No      60   \n",
       "4        No       Yes      Yes        No     Yes         No      60   \n",
       "\n",
       "           Neighbourhood  \n",
       "0  Woodbine-Lumsden (60)  \n",
       "1  Woodbine-Lumsden (60)  \n",
       "2  Woodbine-Lumsden (60)  \n",
       "3  Woodbine-Lumsden (60)  \n",
       "4  Woodbine-Lumsden (60)  \n",
       "\n",
       "[5 rows x 42 columns]"
      ]
     },
     "execution_count": 5,
     "metadata": {},
     "output_type": "execute_result"
    }
   ],
   "source": [
    "df = pd.read_csv(\"ksi_cleaned.csv\")\n",
    "df.head()"
   ]
  },
  {
   "cell_type": "code",
   "execution_count": 6,
   "metadata": {},
   "outputs": [
    {
     "data": {
      "text/plain": [
       "Index(['X', 'Y', 'Index_', 'ACCNUM', 'DATE', 'TIME', 'HOUR', 'STREET1',\n",
       "       'STREET2', 'OFFSET', 'ROAD_CLASS', 'District', 'WardNum', 'Division',\n",
       "       'LATITUDE', 'LONGITUDE', 'LOCCOORD', 'TRAFFCTL', 'VISIBILITY', 'LIGHT',\n",
       "       'RDSFCOND', 'ACCLASS', 'INVTYPE', 'INVAGE', 'INJURY', 'VEHTYPE',\n",
       "       'DRIVACT', 'DRIVCOND', 'PEDESTRIAN', 'CYCLIST', 'AUTOMOBILE',\n",
       "       'MOTORCYCLE', 'TRUCK', 'TRSN_CITY_VEH', 'EMERG_VEH', 'SPEEDING',\n",
       "       'AG_DRIV', 'REDLIGHT', 'ALCOHOL', 'DISABILITY', 'Hood_ID',\n",
       "       'Neighbourhood'],\n",
       "      dtype='object')"
      ]
     },
     "execution_count": 6,
     "metadata": {},
     "output_type": "execute_result"
    }
   ],
   "source": [
    "df.columns"
   ]
  },
  {
   "cell_type": "code",
   "execution_count": 7,
   "metadata": {},
   "outputs": [
    {
     "name": "stdout",
     "output_type": "stream",
     "text": [
      "(16093, 6) (16093,)\n"
     ]
    }
   ],
   "source": [
    "# Select features then Assign X (data) and y (target)\n",
    "X = df[[\"HOUR\", \"ROAD_CLASS\" , \"TRAFFCTL\", \"VISIBILITY\", \"LIGHT\", \"RDSFCOND\"]]\n",
    "y = df[\"ACCLASS\"]\n",
    "print(X.shape, y.shape)"
   ]
  },
  {
   "cell_type": "code",
   "execution_count": 8,
   "metadata": {},
   "outputs": [
    {
     "data": {
      "text/plain": [
       "Index(['HOUR', 'ROAD_CLASS', 'TRAFFCTL', 'VISIBILITY', 'LIGHT', 'RDSFCOND'], dtype='object')"
      ]
     },
     "execution_count": 8,
     "metadata": {},
     "output_type": "execute_result"
    }
   ],
   "source": [
    "#features : all categorical value\n",
    "X.columns "
   ]
  },
  {
   "cell_type": "code",
   "execution_count": 16,
   "metadata": {},
   "outputs": [
    {
     "name": "stdout",
     "output_type": "stream",
     "text": [
      "[0, 1, 2, 3, 4, 5, 6, 7, 8, 9, 10, 11, 12, 13, 14, 15, 16, 17, 18, 19, 20, 21, 22, 23]\n"
     ]
    }
   ],
   "source": [
    "print(sorted(X.HOUR.unique()))"
   ]
  },
  {
   "cell_type": "code",
   "execution_count": 17,
   "metadata": {},
   "outputs": [
    {
     "data": {
      "text/plain": [
       "array(['Major Arterial', 'Minor Arterial', 'Collector', 'Local',\n",
       "       'Unknown', 'Other', 'Pending', 'Laneway', 'Expressway',\n",
       "       'Major Arterial Ramp'], dtype=object)"
      ]
     },
     "execution_count": 17,
     "metadata": {},
     "output_type": "execute_result"
    }
   ],
   "source": [
    "X.ROAD_CLASS.unique()"
   ]
  },
  {
   "cell_type": "code",
   "execution_count": 18,
   "metadata": {},
   "outputs": [
    {
     "data": {
      "text/plain": [
       "array(['No Control', 'Traffic Signal', 'Pedestrian Crossover',\n",
       "       'Stop Sign', 'Unknown', 'Yield Sign', 'Traffic Controller',\n",
       "       'School Guard', 'Police Control', 'Traffic Gate',\n",
       "       'Streetcar (Stop for)', 'PXO - No Ped'], dtype=object)"
      ]
     },
     "execution_count": 18,
     "metadata": {},
     "output_type": "execute_result"
    }
   ],
   "source": [
    "X.TRAFFCTL.unique()"
   ]
  },
  {
   "cell_type": "code",
   "execution_count": 19,
   "metadata": {},
   "outputs": [
    {
     "data": {
      "text/plain": [
       "array(['Clear', 'Snow', 'Other', 'Rain', 'Strong wind',\n",
       "       'Fog, Mist, Smoke, Dust', 'Drifting Snow', 'Freezing Rain',\n",
       "       'Unknown'], dtype=object)"
      ]
     },
     "execution_count": 19,
     "metadata": {},
     "output_type": "execute_result"
    }
   ],
   "source": [
    "X.VISIBILITY.unique()"
   ]
  },
  {
   "cell_type": "code",
   "execution_count": 20,
   "metadata": {},
   "outputs": [
    {
     "data": {
      "text/plain": [
       "array(['Dark', 'Dark, artificial', 'Daylight', 'Dusk', 'Dawn',\n",
       "       'Dusk, artificial', 'Dawn, artificial', 'Daylight, artificial',\n",
       "       'Other'], dtype=object)"
      ]
     },
     "execution_count": 20,
     "metadata": {},
     "output_type": "execute_result"
    }
   ],
   "source": [
    "X.LIGHT.unique()"
   ]
  },
  {
   "cell_type": "code",
   "execution_count": 21,
   "metadata": {},
   "outputs": [
    {
     "data": {
      "text/plain": [
       "array(['Wet', 'Slush', 'Dry', 'Ice', 'Other', 'Loose Snow', 'Packed Snow',\n",
       "       'Spilled liquid', 'Loose Sand or Gravel', 'Unknown'], dtype=object)"
      ]
     },
     "execution_count": 21,
     "metadata": {},
     "output_type": "execute_result"
    }
   ],
   "source": [
    "X.RDSFCOND.unique()"
   ]
  },
  {
   "cell_type": "code",
   "execution_count": 22,
   "metadata": {},
   "outputs": [
    {
     "data": {
      "text/plain": [
       "array(['Non-Fatal Injury', 'Fatal'], dtype=object)"
      ]
     },
     "execution_count": 22,
     "metadata": {},
     "output_type": "execute_result"
    }
   ],
   "source": [
    "y.unique()"
   ]
  },
  {
   "cell_type": "markdown",
   "metadata": {},
   "source": [
    "Preprocessing"
   ]
  },
  {
   "cell_type": "markdown",
   "metadata": {},
   "source": [
    "Features (categorical): 'ROAD_CLASS', 'TRAFFCTL', 'VISIBILITY', 'LIGHT', 'RDSFCOND' and 'HOUR'\n",
    "\n",
    "Transform to numeric representation and add as a new columns"
   ]
  },
  {
   "cell_type": "code",
   "execution_count": 24,
   "metadata": {},
   "outputs": [
    {
     "name": "stderr",
     "output_type": "stream",
     "text": [
      "C:\\Users\\JJ\\anaconda3\\lib\\site-packages\\ipykernel_launcher.py:6: SettingWithCopyWarning: \n",
      "A value is trying to be set on a copy of a slice from a DataFrame.\n",
      "Try using .loc[row_indexer,col_indexer] = value instead\n",
      "\n",
      "See the caveats in the documentation: https://pandas.pydata.org/pandas-docs/stable/user_guide/indexing.html#returning-a-view-versus-a-copy\n",
      "  \n",
      "C:\\Users\\JJ\\anaconda3\\lib\\site-packages\\ipykernel_launcher.py:11: SettingWithCopyWarning: \n",
      "A value is trying to be set on a copy of a slice from a DataFrame.\n",
      "Try using .loc[row_indexer,col_indexer] = value instead\n",
      "\n",
      "See the caveats in the documentation: https://pandas.pydata.org/pandas-docs/stable/user_guide/indexing.html#returning-a-view-versus-a-copy\n",
      "  # This is added back by InteractiveShellApp.init_path()\n",
      "C:\\Users\\JJ\\anaconda3\\lib\\site-packages\\ipykernel_launcher.py:16: SettingWithCopyWarning: \n",
      "A value is trying to be set on a copy of a slice from a DataFrame.\n",
      "Try using .loc[row_indexer,col_indexer] = value instead\n",
      "\n",
      "See the caveats in the documentation: https://pandas.pydata.org/pandas-docs/stable/user_guide/indexing.html#returning-a-view-versus-a-copy\n",
      "  app.launch_new_instance()\n",
      "C:\\Users\\JJ\\anaconda3\\lib\\site-packages\\ipykernel_launcher.py:21: SettingWithCopyWarning: \n",
      "A value is trying to be set on a copy of a slice from a DataFrame.\n",
      "Try using .loc[row_indexer,col_indexer] = value instead\n",
      "\n",
      "See the caveats in the documentation: https://pandas.pydata.org/pandas-docs/stable/user_guide/indexing.html#returning-a-view-versus-a-copy\n",
      "C:\\Users\\JJ\\anaconda3\\lib\\site-packages\\ipykernel_launcher.py:26: SettingWithCopyWarning: \n",
      "A value is trying to be set on a copy of a slice from a DataFrame.\n",
      "Try using .loc[row_indexer,col_indexer] = value instead\n",
      "\n",
      "See the caveats in the documentation: https://pandas.pydata.org/pandas-docs/stable/user_guide/indexing.html#returning-a-view-versus-a-copy\n",
      "C:\\Users\\JJ\\anaconda3\\lib\\site-packages\\ipykernel_launcher.py:31: SettingWithCopyWarning: \n",
      "A value is trying to be set on a copy of a slice from a DataFrame.\n",
      "Try using .loc[row_indexer,col_indexer] = value instead\n",
      "\n",
      "See the caveats in the documentation: https://pandas.pydata.org/pandas-docs/stable/user_guide/indexing.html#returning-a-view-versus-a-copy\n"
     ]
    },
    {
     "data": {
      "text/html": [
       "<div>\n",
       "<style scoped>\n",
       "    .dataframe tbody tr th:only-of-type {\n",
       "        vertical-align: middle;\n",
       "    }\n",
       "\n",
       "    .dataframe tbody tr th {\n",
       "        vertical-align: top;\n",
       "    }\n",
       "\n",
       "    .dataframe thead th {\n",
       "        text-align: right;\n",
       "    }\n",
       "</style>\n",
       "<table border=\"1\" class=\"dataframe\">\n",
       "  <thead>\n",
       "    <tr style=\"text-align: right;\">\n",
       "      <th></th>\n",
       "      <th>HOUR</th>\n",
       "      <th>ROAD_CLASS</th>\n",
       "      <th>TRAFFCTL</th>\n",
       "      <th>VISIBILITY</th>\n",
       "      <th>LIGHT</th>\n",
       "      <th>RDSFCOND</th>\n",
       "      <th>HOUR_Label</th>\n",
       "      <th>ROADCLASS_Label</th>\n",
       "      <th>TRAFFCTL_Label</th>\n",
       "      <th>VISIBILITY_Label</th>\n",
       "      <th>LIGHT_Label</th>\n",
       "      <th>RDSFCOND_Label</th>\n",
       "    </tr>\n",
       "  </thead>\n",
       "  <tbody>\n",
       "    <tr>\n",
       "      <th>0</th>\n",
       "      <td>2</td>\n",
       "      <td>Major Arterial</td>\n",
       "      <td>No Control</td>\n",
       "      <td>Clear</td>\n",
       "      <td>Dark</td>\n",
       "      <td>Wet</td>\n",
       "      <td>2</td>\n",
       "      <td>4</td>\n",
       "      <td>0</td>\n",
       "      <td>0</td>\n",
       "      <td>0</td>\n",
       "      <td>9</td>\n",
       "    </tr>\n",
       "    <tr>\n",
       "      <th>1</th>\n",
       "      <td>2</td>\n",
       "      <td>Major Arterial</td>\n",
       "      <td>No Control</td>\n",
       "      <td>Clear</td>\n",
       "      <td>Dark</td>\n",
       "      <td>Wet</td>\n",
       "      <td>2</td>\n",
       "      <td>4</td>\n",
       "      <td>0</td>\n",
       "      <td>0</td>\n",
       "      <td>0</td>\n",
       "      <td>9</td>\n",
       "    </tr>\n",
       "    <tr>\n",
       "      <th>2</th>\n",
       "      <td>2</td>\n",
       "      <td>Major Arterial</td>\n",
       "      <td>No Control</td>\n",
       "      <td>Clear</td>\n",
       "      <td>Dark</td>\n",
       "      <td>Wet</td>\n",
       "      <td>2</td>\n",
       "      <td>4</td>\n",
       "      <td>0</td>\n",
       "      <td>0</td>\n",
       "      <td>0</td>\n",
       "      <td>9</td>\n",
       "    </tr>\n",
       "    <tr>\n",
       "      <th>3</th>\n",
       "      <td>2</td>\n",
       "      <td>Major Arterial</td>\n",
       "      <td>No Control</td>\n",
       "      <td>Clear</td>\n",
       "      <td>Dark</td>\n",
       "      <td>Wet</td>\n",
       "      <td>2</td>\n",
       "      <td>4</td>\n",
       "      <td>0</td>\n",
       "      <td>0</td>\n",
       "      <td>0</td>\n",
       "      <td>9</td>\n",
       "    </tr>\n",
       "    <tr>\n",
       "      <th>4</th>\n",
       "      <td>2</td>\n",
       "      <td>Major Arterial</td>\n",
       "      <td>No Control</td>\n",
       "      <td>Clear</td>\n",
       "      <td>Dark</td>\n",
       "      <td>Wet</td>\n",
       "      <td>2</td>\n",
       "      <td>4</td>\n",
       "      <td>0</td>\n",
       "      <td>0</td>\n",
       "      <td>0</td>\n",
       "      <td>9</td>\n",
       "    </tr>\n",
       "  </tbody>\n",
       "</table>\n",
       "</div>"
      ],
      "text/plain": [
       "   HOUR      ROAD_CLASS    TRAFFCTL VISIBILITY LIGHT RDSFCOND  HOUR_Label  \\\n",
       "0     2  Major Arterial  No Control      Clear  Dark      Wet           2   \n",
       "1     2  Major Arterial  No Control      Clear  Dark      Wet           2   \n",
       "2     2  Major Arterial  No Control      Clear  Dark      Wet           2   \n",
       "3     2  Major Arterial  No Control      Clear  Dark      Wet           2   \n",
       "4     2  Major Arterial  No Control      Clear  Dark      Wet           2   \n",
       "\n",
       "   ROADCLASS_Label  TRAFFCTL_Label  VISIBILITY_Label  LIGHT_Label  \\\n",
       "0                4               0                 0            0   \n",
       "1                4               0                 0            0   \n",
       "2                4               0                 0            0   \n",
       "3                4               0                 0            0   \n",
       "4                4               0                 0            0   \n",
       "\n",
       "   RDSFCOND_Label  \n",
       "0               9  \n",
       "1               9  \n",
       "2               9  \n",
       "3               9  \n",
       "4               9  "
      ]
     },
     "execution_count": 24,
     "metadata": {},
     "output_type": "execute_result"
    }
   ],
   "source": [
    "from sklearn.preprocessing import LabelEncoder,OneHotEncoder\n",
    "\n",
    "#0. HOUR\n",
    "HOUR_LE = LabelEncoder()\n",
    "HOUR_labels = HOUR_LE.fit_transform(X.HOUR)\n",
    "X[\"HOUR_Label\"]= HOUR_labels\n",
    "\n",
    "#1.'ROAD_CLASS'\n",
    "Road_class_LE = LabelEncoder()\n",
    "Road_class_labels = Road_class_LE.fit_transform(X.ROAD_CLASS)\n",
    "X[\"ROADCLASS_Label\"]=Road_class_labels\n",
    "\n",
    "#2.'TRAFFCTL'\n",
    "TRAFFCTL_LE = LabelEncoder()\n",
    "TRAFFCTL_labels = TRAFFCTL_LE.fit_transform(X.TRAFFCTL)\n",
    "X[\"TRAFFCTL_Label\"]=TRAFFCTL_labels\n",
    "\n",
    "#3.'VISIBILITY'\n",
    "VISIBILITY_LE = LabelEncoder()\n",
    "VISIBILITY_labels = VISIBILITY_LE.fit_transform(X.VISIBILITY)\n",
    "X[\"VISIBILITY_Label\"]=VISIBILITY_labels\n",
    "\n",
    "#4.'LIGHT'\n",
    "LIGHT_LE = LabelEncoder()\n",
    "LIGHT_labels = LIGHT_LE.fit_transform(X.LIGHT)\n",
    "X[\"LIGHT_Label\"]=LIGHT_labels\n",
    "\n",
    "#5.'RDSFCOND'\n",
    "RDSFCOND_LE = LabelEncoder()\n",
    "RDSFCOND_labels = RDSFCOND_LE.fit_transform(X.RDSFCOND)\n",
    "X[\"RDSFCOND_Label\"]=RDSFCOND_labels\n",
    "\n",
    "X.head()"
   ]
  },
  {
   "cell_type": "code",
   "execution_count": 25,
   "metadata": {},
   "outputs": [],
   "source": [
    "X.to_csv(\"X_label_encoded.csv\")"
   ]
  },
  {
   "cell_type": "markdown",
   "metadata": {},
   "source": [
    "####### one-hot encoding scheme easily by leveraging the to_dummies(…) function from pandas."
   ]
  },
  {
   "cell_type": "code",
   "execution_count": 27,
   "metadata": {},
   "outputs": [
    {
     "data": {
      "text/html": [
       "<div>\n",
       "<style scoped>\n",
       "    .dataframe tbody tr th:only-of-type {\n",
       "        vertical-align: middle;\n",
       "    }\n",
       "\n",
       "    .dataframe tbody tr th {\n",
       "        vertical-align: top;\n",
       "    }\n",
       "\n",
       "    .dataframe thead th {\n",
       "        text-align: right;\n",
       "    }\n",
       "</style>\n",
       "<table border=\"1\" class=\"dataframe\">\n",
       "  <thead>\n",
       "    <tr style=\"text-align: right;\">\n",
       "      <th></th>\n",
       "      <th>Dry</th>\n",
       "      <th>Ice</th>\n",
       "      <th>Loose Sand or Gravel</th>\n",
       "      <th>Loose Snow</th>\n",
       "      <th>Other</th>\n",
       "      <th>Packed Snow</th>\n",
       "      <th>Slush</th>\n",
       "      <th>Spilled liquid</th>\n",
       "      <th>Unknown</th>\n",
       "      <th>Wet</th>\n",
       "    </tr>\n",
       "  </thead>\n",
       "  <tbody>\n",
       "    <tr>\n",
       "      <th>0</th>\n",
       "      <td>0</td>\n",
       "      <td>0</td>\n",
       "      <td>0</td>\n",
       "      <td>0</td>\n",
       "      <td>0</td>\n",
       "      <td>0</td>\n",
       "      <td>0</td>\n",
       "      <td>0</td>\n",
       "      <td>0</td>\n",
       "      <td>1</td>\n",
       "    </tr>\n",
       "    <tr>\n",
       "      <th>1</th>\n",
       "      <td>0</td>\n",
       "      <td>0</td>\n",
       "      <td>0</td>\n",
       "      <td>0</td>\n",
       "      <td>0</td>\n",
       "      <td>0</td>\n",
       "      <td>0</td>\n",
       "      <td>0</td>\n",
       "      <td>0</td>\n",
       "      <td>1</td>\n",
       "    </tr>\n",
       "    <tr>\n",
       "      <th>2</th>\n",
       "      <td>0</td>\n",
       "      <td>0</td>\n",
       "      <td>0</td>\n",
       "      <td>0</td>\n",
       "      <td>0</td>\n",
       "      <td>0</td>\n",
       "      <td>0</td>\n",
       "      <td>0</td>\n",
       "      <td>0</td>\n",
       "      <td>1</td>\n",
       "    </tr>\n",
       "    <tr>\n",
       "      <th>3</th>\n",
       "      <td>0</td>\n",
       "      <td>0</td>\n",
       "      <td>0</td>\n",
       "      <td>0</td>\n",
       "      <td>0</td>\n",
       "      <td>0</td>\n",
       "      <td>0</td>\n",
       "      <td>0</td>\n",
       "      <td>0</td>\n",
       "      <td>1</td>\n",
       "    </tr>\n",
       "    <tr>\n",
       "      <th>4</th>\n",
       "      <td>0</td>\n",
       "      <td>0</td>\n",
       "      <td>0</td>\n",
       "      <td>0</td>\n",
       "      <td>0</td>\n",
       "      <td>0</td>\n",
       "      <td>0</td>\n",
       "      <td>0</td>\n",
       "      <td>0</td>\n",
       "      <td>1</td>\n",
       "    </tr>\n",
       "  </tbody>\n",
       "</table>\n",
       "</div>"
      ],
      "text/plain": [
       "   Dry  Ice  Loose Sand or Gravel  Loose Snow  Other  Packed Snow  Slush  \\\n",
       "0    0    0                     0           0      0            0      0   \n",
       "1    0    0                     0           0      0            0      0   \n",
       "2    0    0                     0           0      0            0      0   \n",
       "3    0    0                     0           0      0            0      0   \n",
       "4    0    0                     0           0      0            0      0   \n",
       "\n",
       "   Spilled liquid  Unknown  Wet  \n",
       "0               0        0    1  \n",
       "1               0        0    1  \n",
       "2               0        0    1  \n",
       "3               0        0    1  \n",
       "4               0        0    1  "
      ]
     },
     "execution_count": 27,
     "metadata": {},
     "output_type": "execute_result"
    }
   ],
   "source": [
    "# 'HOUR' ,'ROAD_CLASS', 'TRAFFCTL', 'VISIBILITY', 'LIGHT', 'RDSFCOND'\n",
    "\n",
    "HOUR_onehot_features = pd.get_dummies(X['HOUR'])\n",
    "ROADCLASS_onehot_features = pd.get_dummies(X['ROAD_CLASS'])\n",
    "TRAFFCTL_onehot_features = pd.get_dummies(X['TRAFFCTL'])\n",
    "VISIBILITY_onehot_features = pd.get_dummies(X['VISIBILITY'])\n",
    "LIGHT_onehot_features = pd.get_dummies(X['LIGHT'])\n",
    "RDSFCOND_onehot_features = pd.get_dummies(X['RDSFCOND'])\n",
    "\n",
    "# check to see if it works\n",
    "RDSFCOND_onehot_features.head()"
   ]
  },
  {
   "cell_type": "code",
   "execution_count": 28,
   "metadata": {},
   "outputs": [
    {
     "data": {
      "text/html": [
       "<div>\n",
       "<style scoped>\n",
       "    .dataframe tbody tr th:only-of-type {\n",
       "        vertical-align: middle;\n",
       "    }\n",
       "\n",
       "    .dataframe tbody tr th {\n",
       "        vertical-align: top;\n",
       "    }\n",
       "\n",
       "    .dataframe thead th {\n",
       "        text-align: right;\n",
       "    }\n",
       "</style>\n",
       "<table border=\"1\" class=\"dataframe\">\n",
       "  <thead>\n",
       "    <tr style=\"text-align: right;\">\n",
       "      <th></th>\n",
       "      <th>HOUR</th>\n",
       "      <th>ROAD_CLASS</th>\n",
       "      <th>TRAFFCTL</th>\n",
       "      <th>VISIBILITY</th>\n",
       "      <th>LIGHT</th>\n",
       "      <th>RDSFCOND</th>\n",
       "      <th>HOUR_Label</th>\n",
       "      <th>ROADCLASS_Label</th>\n",
       "      <th>TRAFFCTL_Label</th>\n",
       "      <th>VISIBILITY_Label</th>\n",
       "      <th>...</th>\n",
       "      <th>Dry</th>\n",
       "      <th>Ice</th>\n",
       "      <th>Loose Sand or Gravel</th>\n",
       "      <th>Loose Snow</th>\n",
       "      <th>Other</th>\n",
       "      <th>Packed Snow</th>\n",
       "      <th>Slush</th>\n",
       "      <th>Spilled liquid</th>\n",
       "      <th>Unknown</th>\n",
       "      <th>Wet</th>\n",
       "    </tr>\n",
       "  </thead>\n",
       "  <tbody>\n",
       "    <tr>\n",
       "      <th>0</th>\n",
       "      <td>2</td>\n",
       "      <td>Major Arterial</td>\n",
       "      <td>No Control</td>\n",
       "      <td>Clear</td>\n",
       "      <td>Dark</td>\n",
       "      <td>Wet</td>\n",
       "      <td>2</td>\n",
       "      <td>4</td>\n",
       "      <td>0</td>\n",
       "      <td>0</td>\n",
       "      <td>...</td>\n",
       "      <td>0</td>\n",
       "      <td>0</td>\n",
       "      <td>0</td>\n",
       "      <td>0</td>\n",
       "      <td>0</td>\n",
       "      <td>0</td>\n",
       "      <td>0</td>\n",
       "      <td>0</td>\n",
       "      <td>0</td>\n",
       "      <td>1</td>\n",
       "    </tr>\n",
       "    <tr>\n",
       "      <th>1</th>\n",
       "      <td>2</td>\n",
       "      <td>Major Arterial</td>\n",
       "      <td>No Control</td>\n",
       "      <td>Clear</td>\n",
       "      <td>Dark</td>\n",
       "      <td>Wet</td>\n",
       "      <td>2</td>\n",
       "      <td>4</td>\n",
       "      <td>0</td>\n",
       "      <td>0</td>\n",
       "      <td>...</td>\n",
       "      <td>0</td>\n",
       "      <td>0</td>\n",
       "      <td>0</td>\n",
       "      <td>0</td>\n",
       "      <td>0</td>\n",
       "      <td>0</td>\n",
       "      <td>0</td>\n",
       "      <td>0</td>\n",
       "      <td>0</td>\n",
       "      <td>1</td>\n",
       "    </tr>\n",
       "    <tr>\n",
       "      <th>2</th>\n",
       "      <td>2</td>\n",
       "      <td>Major Arterial</td>\n",
       "      <td>No Control</td>\n",
       "      <td>Clear</td>\n",
       "      <td>Dark</td>\n",
       "      <td>Wet</td>\n",
       "      <td>2</td>\n",
       "      <td>4</td>\n",
       "      <td>0</td>\n",
       "      <td>0</td>\n",
       "      <td>...</td>\n",
       "      <td>0</td>\n",
       "      <td>0</td>\n",
       "      <td>0</td>\n",
       "      <td>0</td>\n",
       "      <td>0</td>\n",
       "      <td>0</td>\n",
       "      <td>0</td>\n",
       "      <td>0</td>\n",
       "      <td>0</td>\n",
       "      <td>1</td>\n",
       "    </tr>\n",
       "    <tr>\n",
       "      <th>3</th>\n",
       "      <td>2</td>\n",
       "      <td>Major Arterial</td>\n",
       "      <td>No Control</td>\n",
       "      <td>Clear</td>\n",
       "      <td>Dark</td>\n",
       "      <td>Wet</td>\n",
       "      <td>2</td>\n",
       "      <td>4</td>\n",
       "      <td>0</td>\n",
       "      <td>0</td>\n",
       "      <td>...</td>\n",
       "      <td>0</td>\n",
       "      <td>0</td>\n",
       "      <td>0</td>\n",
       "      <td>0</td>\n",
       "      <td>0</td>\n",
       "      <td>0</td>\n",
       "      <td>0</td>\n",
       "      <td>0</td>\n",
       "      <td>0</td>\n",
       "      <td>1</td>\n",
       "    </tr>\n",
       "    <tr>\n",
       "      <th>4</th>\n",
       "      <td>2</td>\n",
       "      <td>Major Arterial</td>\n",
       "      <td>No Control</td>\n",
       "      <td>Clear</td>\n",
       "      <td>Dark</td>\n",
       "      <td>Wet</td>\n",
       "      <td>2</td>\n",
       "      <td>4</td>\n",
       "      <td>0</td>\n",
       "      <td>0</td>\n",
       "      <td>...</td>\n",
       "      <td>0</td>\n",
       "      <td>0</td>\n",
       "      <td>0</td>\n",
       "      <td>0</td>\n",
       "      <td>0</td>\n",
       "      <td>0</td>\n",
       "      <td>0</td>\n",
       "      <td>0</td>\n",
       "      <td>0</td>\n",
       "      <td>1</td>\n",
       "    </tr>\n",
       "  </tbody>\n",
       "</table>\n",
       "<p>5 rows × 86 columns</p>\n",
       "</div>"
      ],
      "text/plain": [
       "   HOUR      ROAD_CLASS    TRAFFCTL VISIBILITY LIGHT RDSFCOND  HOUR_Label  \\\n",
       "0     2  Major Arterial  No Control      Clear  Dark      Wet           2   \n",
       "1     2  Major Arterial  No Control      Clear  Dark      Wet           2   \n",
       "2     2  Major Arterial  No Control      Clear  Dark      Wet           2   \n",
       "3     2  Major Arterial  No Control      Clear  Dark      Wet           2   \n",
       "4     2  Major Arterial  No Control      Clear  Dark      Wet           2   \n",
       "\n",
       "   ROADCLASS_Label  TRAFFCTL_Label  VISIBILITY_Label  ...  Dry  Ice  \\\n",
       "0                4               0                 0  ...    0    0   \n",
       "1                4               0                 0  ...    0    0   \n",
       "2                4               0                 0  ...    0    0   \n",
       "3                4               0                 0  ...    0    0   \n",
       "4                4               0                 0  ...    0    0   \n",
       "\n",
       "   Loose Sand or Gravel  Loose Snow  Other  Packed Snow  Slush  \\\n",
       "0                     0           0      0            0      0   \n",
       "1                     0           0      0            0      0   \n",
       "2                     0           0      0            0      0   \n",
       "3                     0           0      0            0      0   \n",
       "4                     0           0      0            0      0   \n",
       "\n",
       "   Spilled liquid  Unknown  Wet  \n",
       "0               0        0    1  \n",
       "1               0        0    1  \n",
       "2               0        0    1  \n",
       "3               0        0    1  \n",
       "4               0        0    1  \n",
       "\n",
       "[5 rows x 86 columns]"
      ]
     },
     "execution_count": 28,
     "metadata": {},
     "output_type": "execute_result"
    }
   ],
   "source": [
    "# combine all dataframe (features) into one df\n",
    "X_all_features = pd.concat([X, HOUR_onehot_features, ROADCLASS_onehot_features,TRAFFCTL_onehot_features,VISIBILITY_onehot_features,\n",
    "                           LIGHT_onehot_features,RDSFCOND_onehot_features],axis=1)\n",
    "X_all_features.head()"
   ]
  },
  {
   "cell_type": "code",
   "execution_count": 29,
   "metadata": {},
   "outputs": [],
   "source": [
    "X_all_features.to_csv(\"X_all_features.csv\")"
   ]
  },
  {
   "cell_type": "code",
   "execution_count": 30,
   "metadata": {},
   "outputs": [
    {
     "data": {
      "text/plain": [
       "Index([                  'HOUR',             'ROAD_CLASS',\n",
       "                     'TRAFFCTL',             'VISIBILITY',\n",
       "                        'LIGHT',               'RDSFCOND',\n",
       "                   'HOUR_Label',        'ROADCLASS_Label',\n",
       "               'TRAFFCTL_Label',       'VISIBILITY_Label',\n",
       "                  'LIGHT_Label',         'RDSFCOND_Label',\n",
       "                              0,                        1,\n",
       "                              2,                        3,\n",
       "                              4,                        5,\n",
       "                              6,                        7,\n",
       "                              8,                        9,\n",
       "                             10,                       11,\n",
       "                             12,                       13,\n",
       "                             14,                       15,\n",
       "                             16,                       17,\n",
       "                             18,                       19,\n",
       "                             20,                       21,\n",
       "                             22,                       23,\n",
       "                    'Collector',             'Expressway',\n",
       "                      'Laneway',                  'Local',\n",
       "               'Major Arterial',    'Major Arterial Ramp',\n",
       "               'Minor Arterial',                  'Other',\n",
       "                      'Pending',                'Unknown',\n",
       "                   'No Control',           'PXO - No Ped',\n",
       "         'Pedestrian Crossover',         'Police Control',\n",
       "                 'School Guard',              'Stop Sign',\n",
       "         'Streetcar (Stop for)',     'Traffic Controller',\n",
       "                 'Traffic Gate',         'Traffic Signal',\n",
       "                      'Unknown',             'Yield Sign',\n",
       "                        'Clear',          'Drifting Snow',\n",
       "       'Fog, Mist, Smoke, Dust',          'Freezing Rain',\n",
       "                        'Other',                   'Rain',\n",
       "                         'Snow',            'Strong wind',\n",
       "                      'Unknown',                   'Dark',\n",
       "             'Dark, artificial',                   'Dawn',\n",
       "             'Dawn, artificial',               'Daylight',\n",
       "         'Daylight, artificial',                   'Dusk',\n",
       "             'Dusk, artificial',                  'Other',\n",
       "                          'Dry',                    'Ice',\n",
       "         'Loose Sand or Gravel',             'Loose Snow',\n",
       "                        'Other',            'Packed Snow',\n",
       "                        'Slush',         'Spilled liquid',\n",
       "                      'Unknown',                    'Wet'],\n",
       "      dtype='object')"
      ]
     },
     "execution_count": 30,
     "metadata": {},
     "output_type": "execute_result"
    }
   ],
   "source": [
    "X_all_features.columns"
   ]
  },
  {
   "cell_type": "code",
   "execution_count": 53,
   "metadata": {},
   "outputs": [],
   "source": [
    "#second data cleaning job\n",
    "# drop categorical columns(features) and leave its numeric features. Others and Unknown also dropped\n",
    "\n",
    "X_all_features_cleaned = X_all_features.drop([\"Other\",\"Unknown\",\"HOUR\",\"HOUR_Label\",\"ROAD_CLASS\",\"TRAFFCTL\",\"VISIBILITY\",\n",
    "                                              \"LIGHT\",\"RDSFCOND\",'ROADCLASS_Label', 'TRAFFCTL_Label',\n",
    "                                              'VISIBILITY_Label','LIGHT_Label','RDSFCOND_Label'],axis=1)"
   ]
  },
  {
   "cell_type": "code",
   "execution_count": 32,
   "metadata": {},
   "outputs": [
    {
     "data": {
      "text/plain": [
       "Index([                       0,                        1,\n",
       "                              2,                        3,\n",
       "                              4,                        5,\n",
       "                              6,                        7,\n",
       "                              8,                        9,\n",
       "                             10,                       11,\n",
       "                             12,                       13,\n",
       "                             14,                       15,\n",
       "                             16,                       17,\n",
       "                             18,                       19,\n",
       "                             20,                       21,\n",
       "                             22,                       23,\n",
       "                    'Collector',             'Expressway',\n",
       "                      'Laneway',                  'Local',\n",
       "               'Major Arterial',    'Major Arterial Ramp',\n",
       "               'Minor Arterial',                'Pending',\n",
       "                   'No Control',           'PXO - No Ped',\n",
       "         'Pedestrian Crossover',         'Police Control',\n",
       "                 'School Guard',              'Stop Sign',\n",
       "         'Streetcar (Stop for)',     'Traffic Controller',\n",
       "                 'Traffic Gate',         'Traffic Signal',\n",
       "                   'Yield Sign',                  'Clear',\n",
       "                'Drifting Snow', 'Fog, Mist, Smoke, Dust',\n",
       "                'Freezing Rain',                   'Rain',\n",
       "                         'Snow',            'Strong wind',\n",
       "                         'Dark',       'Dark, artificial',\n",
       "                         'Dawn',       'Dawn, artificial',\n",
       "                     'Daylight',   'Daylight, artificial',\n",
       "                         'Dusk',       'Dusk, artificial',\n",
       "                          'Dry',                    'Ice',\n",
       "         'Loose Sand or Gravel',             'Loose Snow',\n",
       "                  'Packed Snow',                  'Slush',\n",
       "               'Spilled liquid',                    'Wet'],\n",
       "      dtype='object')"
      ]
     },
     "execution_count": 32,
     "metadata": {},
     "output_type": "execute_result"
    }
   ],
   "source": [
    "X_all_features_cleaned.columns "
   ]
  },
  {
   "cell_type": "code",
   "execution_count": 33,
   "metadata": {},
   "outputs": [
    {
     "name": "stdout",
     "output_type": "stream",
     "text": [
      "Number of features are : 66\n"
     ]
    }
   ],
   "source": [
    "print(f\"Number of features are : {len(X_all_features_cleaned.columns)}\") "
   ]
  },
  {
   "cell_type": "code",
   "execution_count": 34,
   "metadata": {},
   "outputs": [],
   "source": [
    "X_all_features_cleaned.to_csv(\"X_all_features_cleaned.csv\" ) "
   ]
  },
  {
   "cell_type": "code",
   "execution_count": 35,
   "metadata": {},
   "outputs": [
    {
     "data": {
      "text/html": [
       "<div>\n",
       "<style scoped>\n",
       "    .dataframe tbody tr th:only-of-type {\n",
       "        vertical-align: middle;\n",
       "    }\n",
       "\n",
       "    .dataframe tbody tr th {\n",
       "        vertical-align: top;\n",
       "    }\n",
       "\n",
       "    .dataframe thead th {\n",
       "        text-align: right;\n",
       "    }\n",
       "</style>\n",
       "<table border=\"1\" class=\"dataframe\">\n",
       "  <thead>\n",
       "    <tr style=\"text-align: right;\">\n",
       "      <th></th>\n",
       "      <th>0</th>\n",
       "      <th>1</th>\n",
       "      <th>2</th>\n",
       "      <th>3</th>\n",
       "      <th>4</th>\n",
       "      <th>5</th>\n",
       "      <th>6</th>\n",
       "      <th>7</th>\n",
       "      <th>8</th>\n",
       "      <th>9</th>\n",
       "      <th>...</th>\n",
       "      <th>Dusk</th>\n",
       "      <th>Dusk, artificial</th>\n",
       "      <th>Dry</th>\n",
       "      <th>Ice</th>\n",
       "      <th>Loose Sand or Gravel</th>\n",
       "      <th>Loose Snow</th>\n",
       "      <th>Packed Snow</th>\n",
       "      <th>Slush</th>\n",
       "      <th>Spilled liquid</th>\n",
       "      <th>Wet</th>\n",
       "    </tr>\n",
       "  </thead>\n",
       "  <tbody>\n",
       "    <tr>\n",
       "      <th>0</th>\n",
       "      <td>0</td>\n",
       "      <td>0</td>\n",
       "      <td>1</td>\n",
       "      <td>0</td>\n",
       "      <td>0</td>\n",
       "      <td>0</td>\n",
       "      <td>0</td>\n",
       "      <td>0</td>\n",
       "      <td>0</td>\n",
       "      <td>0</td>\n",
       "      <td>...</td>\n",
       "      <td>0</td>\n",
       "      <td>0</td>\n",
       "      <td>0</td>\n",
       "      <td>0</td>\n",
       "      <td>0</td>\n",
       "      <td>0</td>\n",
       "      <td>0</td>\n",
       "      <td>0</td>\n",
       "      <td>0</td>\n",
       "      <td>1</td>\n",
       "    </tr>\n",
       "    <tr>\n",
       "      <th>1</th>\n",
       "      <td>0</td>\n",
       "      <td>0</td>\n",
       "      <td>1</td>\n",
       "      <td>0</td>\n",
       "      <td>0</td>\n",
       "      <td>0</td>\n",
       "      <td>0</td>\n",
       "      <td>0</td>\n",
       "      <td>0</td>\n",
       "      <td>0</td>\n",
       "      <td>...</td>\n",
       "      <td>0</td>\n",
       "      <td>0</td>\n",
       "      <td>0</td>\n",
       "      <td>0</td>\n",
       "      <td>0</td>\n",
       "      <td>0</td>\n",
       "      <td>0</td>\n",
       "      <td>0</td>\n",
       "      <td>0</td>\n",
       "      <td>1</td>\n",
       "    </tr>\n",
       "    <tr>\n",
       "      <th>2</th>\n",
       "      <td>0</td>\n",
       "      <td>0</td>\n",
       "      <td>1</td>\n",
       "      <td>0</td>\n",
       "      <td>0</td>\n",
       "      <td>0</td>\n",
       "      <td>0</td>\n",
       "      <td>0</td>\n",
       "      <td>0</td>\n",
       "      <td>0</td>\n",
       "      <td>...</td>\n",
       "      <td>0</td>\n",
       "      <td>0</td>\n",
       "      <td>0</td>\n",
       "      <td>0</td>\n",
       "      <td>0</td>\n",
       "      <td>0</td>\n",
       "      <td>0</td>\n",
       "      <td>0</td>\n",
       "      <td>0</td>\n",
       "      <td>1</td>\n",
       "    </tr>\n",
       "    <tr>\n",
       "      <th>3</th>\n",
       "      <td>0</td>\n",
       "      <td>0</td>\n",
       "      <td>1</td>\n",
       "      <td>0</td>\n",
       "      <td>0</td>\n",
       "      <td>0</td>\n",
       "      <td>0</td>\n",
       "      <td>0</td>\n",
       "      <td>0</td>\n",
       "      <td>0</td>\n",
       "      <td>...</td>\n",
       "      <td>0</td>\n",
       "      <td>0</td>\n",
       "      <td>0</td>\n",
       "      <td>0</td>\n",
       "      <td>0</td>\n",
       "      <td>0</td>\n",
       "      <td>0</td>\n",
       "      <td>0</td>\n",
       "      <td>0</td>\n",
       "      <td>1</td>\n",
       "    </tr>\n",
       "    <tr>\n",
       "      <th>4</th>\n",
       "      <td>0</td>\n",
       "      <td>0</td>\n",
       "      <td>1</td>\n",
       "      <td>0</td>\n",
       "      <td>0</td>\n",
       "      <td>0</td>\n",
       "      <td>0</td>\n",
       "      <td>0</td>\n",
       "      <td>0</td>\n",
       "      <td>0</td>\n",
       "      <td>...</td>\n",
       "      <td>0</td>\n",
       "      <td>0</td>\n",
       "      <td>0</td>\n",
       "      <td>0</td>\n",
       "      <td>0</td>\n",
       "      <td>0</td>\n",
       "      <td>0</td>\n",
       "      <td>0</td>\n",
       "      <td>0</td>\n",
       "      <td>1</td>\n",
       "    </tr>\n",
       "    <tr>\n",
       "      <th>...</th>\n",
       "      <td>...</td>\n",
       "      <td>...</td>\n",
       "      <td>...</td>\n",
       "      <td>...</td>\n",
       "      <td>...</td>\n",
       "      <td>...</td>\n",
       "      <td>...</td>\n",
       "      <td>...</td>\n",
       "      <td>...</td>\n",
       "      <td>...</td>\n",
       "      <td>...</td>\n",
       "      <td>...</td>\n",
       "      <td>...</td>\n",
       "      <td>...</td>\n",
       "      <td>...</td>\n",
       "      <td>...</td>\n",
       "      <td>...</td>\n",
       "      <td>...</td>\n",
       "      <td>...</td>\n",
       "      <td>...</td>\n",
       "      <td>...</td>\n",
       "    </tr>\n",
       "    <tr>\n",
       "      <th>16088</th>\n",
       "      <td>0</td>\n",
       "      <td>0</td>\n",
       "      <td>0</td>\n",
       "      <td>0</td>\n",
       "      <td>0</td>\n",
       "      <td>0</td>\n",
       "      <td>0</td>\n",
       "      <td>0</td>\n",
       "      <td>0</td>\n",
       "      <td>0</td>\n",
       "      <td>...</td>\n",
       "      <td>0</td>\n",
       "      <td>0</td>\n",
       "      <td>1</td>\n",
       "      <td>0</td>\n",
       "      <td>0</td>\n",
       "      <td>0</td>\n",
       "      <td>0</td>\n",
       "      <td>0</td>\n",
       "      <td>0</td>\n",
       "      <td>0</td>\n",
       "    </tr>\n",
       "    <tr>\n",
       "      <th>16089</th>\n",
       "      <td>0</td>\n",
       "      <td>0</td>\n",
       "      <td>0</td>\n",
       "      <td>0</td>\n",
       "      <td>0</td>\n",
       "      <td>0</td>\n",
       "      <td>0</td>\n",
       "      <td>0</td>\n",
       "      <td>0</td>\n",
       "      <td>0</td>\n",
       "      <td>...</td>\n",
       "      <td>0</td>\n",
       "      <td>0</td>\n",
       "      <td>1</td>\n",
       "      <td>0</td>\n",
       "      <td>0</td>\n",
       "      <td>0</td>\n",
       "      <td>0</td>\n",
       "      <td>0</td>\n",
       "      <td>0</td>\n",
       "      <td>0</td>\n",
       "    </tr>\n",
       "    <tr>\n",
       "      <th>16090</th>\n",
       "      <td>0</td>\n",
       "      <td>0</td>\n",
       "      <td>0</td>\n",
       "      <td>0</td>\n",
       "      <td>0</td>\n",
       "      <td>0</td>\n",
       "      <td>0</td>\n",
       "      <td>0</td>\n",
       "      <td>0</td>\n",
       "      <td>0</td>\n",
       "      <td>...</td>\n",
       "      <td>0</td>\n",
       "      <td>0</td>\n",
       "      <td>1</td>\n",
       "      <td>0</td>\n",
       "      <td>0</td>\n",
       "      <td>0</td>\n",
       "      <td>0</td>\n",
       "      <td>0</td>\n",
       "      <td>0</td>\n",
       "      <td>0</td>\n",
       "    </tr>\n",
       "    <tr>\n",
       "      <th>16091</th>\n",
       "      <td>0</td>\n",
       "      <td>0</td>\n",
       "      <td>0</td>\n",
       "      <td>0</td>\n",
       "      <td>0</td>\n",
       "      <td>0</td>\n",
       "      <td>0</td>\n",
       "      <td>0</td>\n",
       "      <td>0</td>\n",
       "      <td>0</td>\n",
       "      <td>...</td>\n",
       "      <td>0</td>\n",
       "      <td>0</td>\n",
       "      <td>1</td>\n",
       "      <td>0</td>\n",
       "      <td>0</td>\n",
       "      <td>0</td>\n",
       "      <td>0</td>\n",
       "      <td>0</td>\n",
       "      <td>0</td>\n",
       "      <td>0</td>\n",
       "    </tr>\n",
       "    <tr>\n",
       "      <th>16092</th>\n",
       "      <td>0</td>\n",
       "      <td>0</td>\n",
       "      <td>0</td>\n",
       "      <td>0</td>\n",
       "      <td>0</td>\n",
       "      <td>0</td>\n",
       "      <td>0</td>\n",
       "      <td>0</td>\n",
       "      <td>0</td>\n",
       "      <td>0</td>\n",
       "      <td>...</td>\n",
       "      <td>0</td>\n",
       "      <td>0</td>\n",
       "      <td>1</td>\n",
       "      <td>0</td>\n",
       "      <td>0</td>\n",
       "      <td>0</td>\n",
       "      <td>0</td>\n",
       "      <td>0</td>\n",
       "      <td>0</td>\n",
       "      <td>0</td>\n",
       "    </tr>\n",
       "  </tbody>\n",
       "</table>\n",
       "<p>16093 rows × 66 columns</p>\n",
       "</div>"
      ],
      "text/plain": [
       "       0  1  2  3  4  5  6  7  8  9  ...  Dusk  Dusk, artificial  Dry  Ice  \\\n",
       "0      0  0  1  0  0  0  0  0  0  0  ...     0                 0    0    0   \n",
       "1      0  0  1  0  0  0  0  0  0  0  ...     0                 0    0    0   \n",
       "2      0  0  1  0  0  0  0  0  0  0  ...     0                 0    0    0   \n",
       "3      0  0  1  0  0  0  0  0  0  0  ...     0                 0    0    0   \n",
       "4      0  0  1  0  0  0  0  0  0  0  ...     0                 0    0    0   \n",
       "...   .. .. .. .. .. .. .. .. .. ..  ...   ...               ...  ...  ...   \n",
       "16088  0  0  0  0  0  0  0  0  0  0  ...     0                 0    1    0   \n",
       "16089  0  0  0  0  0  0  0  0  0  0  ...     0                 0    1    0   \n",
       "16090  0  0  0  0  0  0  0  0  0  0  ...     0                 0    1    0   \n",
       "16091  0  0  0  0  0  0  0  0  0  0  ...     0                 0    1    0   \n",
       "16092  0  0  0  0  0  0  0  0  0  0  ...     0                 0    1    0   \n",
       "\n",
       "       Loose Sand or Gravel  Loose Snow  Packed Snow  Slush  Spilled liquid  \\\n",
       "0                         0           0            0      0               0   \n",
       "1                         0           0            0      0               0   \n",
       "2                         0           0            0      0               0   \n",
       "3                         0           0            0      0               0   \n",
       "4                         0           0            0      0               0   \n",
       "...                     ...         ...          ...    ...             ...   \n",
       "16088                     0           0            0      0               0   \n",
       "16089                     0           0            0      0               0   \n",
       "16090                     0           0            0      0               0   \n",
       "16091                     0           0            0      0               0   \n",
       "16092                     0           0            0      0               0   \n",
       "\n",
       "       Wet  \n",
       "0        1  \n",
       "1        1  \n",
       "2        1  \n",
       "3        1  \n",
       "4        1  \n",
       "...    ...  \n",
       "16088    0  \n",
       "16089    0  \n",
       "16090    0  \n",
       "16091    0  \n",
       "16092    0  \n",
       "\n",
       "[16093 rows x 66 columns]"
      ]
     },
     "execution_count": 35,
     "metadata": {},
     "output_type": "execute_result"
    }
   ],
   "source": [
    "X_all_features_cleaned"
   ]
  },
  {
   "cell_type": "code",
   "execution_count": 36,
   "metadata": {},
   "outputs": [],
   "source": [
    "X_features = X_all_features_cleaned"
   ]
  },
  {
   "cell_type": "markdown",
   "metadata": {},
   "source": [
    "MODELING #############################################################"
   ]
  },
  {
   "cell_type": "code",
   "execution_count": 37,
   "metadata": {},
   "outputs": [],
   "source": [
    "#Split our data into training and testing"
   ]
  },
  {
   "cell_type": "code",
   "execution_count": 38,
   "metadata": {},
   "outputs": [],
   "source": [
    "from sklearn.model_selection import train_test_split\n",
    "\n",
    "X_train, X_test, y_train, y_test = train_test_split(X_features, y, random_state=1)"
   ]
  },
  {
   "cell_type": "code",
   "execution_count": 39,
   "metadata": {},
   "outputs": [],
   "source": [
    "#Create a Logistic Regression Model"
   ]
  },
  {
   "cell_type": "code",
   "execution_count": 40,
   "metadata": {},
   "outputs": [
    {
     "data": {
      "text/plain": [
       "LogisticRegression(C=1.0, class_weight=None, dual=False, fit_intercept=True,\n",
       "                   intercept_scaling=1, l1_ratio=None, max_iter=100,\n",
       "                   multi_class='auto', n_jobs=None, penalty='l2',\n",
       "                   random_state=None, solver='lbfgs', tol=0.0001, verbose=0,\n",
       "                   warm_start=False)"
      ]
     },
     "execution_count": 40,
     "metadata": {},
     "output_type": "execute_result"
    }
   ],
   "source": [
    "from sklearn.linear_model import LogisticRegression\n",
    "Fatality_classifier = LogisticRegression()\n",
    "Fatality_classifier"
   ]
  },
  {
   "cell_type": "code",
   "execution_count": 41,
   "metadata": {},
   "outputs": [],
   "source": [
    "#Fit train data to model"
   ]
  },
  {
   "cell_type": "code",
   "execution_count": 42,
   "metadata": {},
   "outputs": [
    {
     "name": "stderr",
     "output_type": "stream",
     "text": [
      "C:\\Users\\JJ\\anaconda3\\lib\\site-packages\\sklearn\\linear_model\\_logistic.py:940: ConvergenceWarning: lbfgs failed to converge (status=1):\n",
      "STOP: TOTAL NO. of ITERATIONS REACHED LIMIT.\n",
      "\n",
      "Increase the number of iterations (max_iter) or scale the data as shown in:\n",
      "    https://scikit-learn.org/stable/modules/preprocessing.html\n",
      "Please also refer to the documentation for alternative solver options:\n",
      "    https://scikit-learn.org/stable/modules/linear_model.html#logistic-regression\n",
      "  extra_warning_msg=_LOGISTIC_SOLVER_CONVERGENCE_MSG)\n"
     ]
    },
    {
     "data": {
      "text/plain": [
       "LogisticRegression(C=1.0, class_weight=None, dual=False, fit_intercept=True,\n",
       "                   intercept_scaling=1, l1_ratio=None, max_iter=100,\n",
       "                   multi_class='auto', n_jobs=None, penalty='l2',\n",
       "                   random_state=None, solver='lbfgs', tol=0.0001, verbose=0,\n",
       "                   warm_start=False)"
      ]
     },
     "execution_count": 42,
     "metadata": {},
     "output_type": "execute_result"
    }
   ],
   "source": [
    "Fatality_classifier.fit(X_train, y_train)"
   ]
  },
  {
   "cell_type": "code",
   "execution_count": 43,
   "metadata": {},
   "outputs": [
    {
     "name": "stdout",
     "output_type": "stream",
     "text": [
      "Training score (R-square) : 86.5026%\n",
      "Training score (R-square): 86.6799%\n"
     ]
    }
   ],
   "source": [
    "#Validate the model using the test data\n",
    "print(f\"Training score (R-square) : {round(Fatality_classifier.score(X_train, y_train)*100,4)}%\")\n",
    "print(f\"Training score (R-square): {round(Fatality_classifier.score(X_test, y_test)*100,4)}%\")"
   ]
  },
  {
   "cell_type": "markdown",
   "metadata": {},
   "source": [
    "Make predictions"
   ]
  },
  {
   "cell_type": "code",
   "execution_count": 44,
   "metadata": {},
   "outputs": [
    {
     "data": {
      "text/html": [
       "<div>\n",
       "<style scoped>\n",
       "    .dataframe tbody tr th:only-of-type {\n",
       "        vertical-align: middle;\n",
       "    }\n",
       "\n",
       "    .dataframe tbody tr th {\n",
       "        vertical-align: top;\n",
       "    }\n",
       "\n",
       "    .dataframe thead th {\n",
       "        text-align: right;\n",
       "    }\n",
       "</style>\n",
       "<table border=\"1\" class=\"dataframe\">\n",
       "  <thead>\n",
       "    <tr style=\"text-align: right;\">\n",
       "      <th></th>\n",
       "      <th>Prediction</th>\n",
       "      <th>Actual</th>\n",
       "    </tr>\n",
       "  </thead>\n",
       "  <tbody>\n",
       "    <tr>\n",
       "      <th>5633</th>\n",
       "      <td>Non-Fatal Injury</td>\n",
       "      <td>Non-Fatal Injury</td>\n",
       "    </tr>\n",
       "    <tr>\n",
       "      <th>3745</th>\n",
       "      <td>Non-Fatal Injury</td>\n",
       "      <td>Fatal</td>\n",
       "    </tr>\n",
       "    <tr>\n",
       "      <th>3497</th>\n",
       "      <td>Non-Fatal Injury</td>\n",
       "      <td>Non-Fatal Injury</td>\n",
       "    </tr>\n",
       "    <tr>\n",
       "      <th>2305</th>\n",
       "      <td>Non-Fatal Injury</td>\n",
       "      <td>Non-Fatal Injury</td>\n",
       "    </tr>\n",
       "    <tr>\n",
       "      <th>14492</th>\n",
       "      <td>Non-Fatal Injury</td>\n",
       "      <td>Fatal</td>\n",
       "    </tr>\n",
       "    <tr>\n",
       "      <th>...</th>\n",
       "      <td>...</td>\n",
       "      <td>...</td>\n",
       "    </tr>\n",
       "    <tr>\n",
       "      <th>13839</th>\n",
       "      <td>Non-Fatal Injury</td>\n",
       "      <td>Non-Fatal Injury</td>\n",
       "    </tr>\n",
       "    <tr>\n",
       "      <th>913</th>\n",
       "      <td>Non-Fatal Injury</td>\n",
       "      <td>Fatal</td>\n",
       "    </tr>\n",
       "    <tr>\n",
       "      <th>2588</th>\n",
       "      <td>Non-Fatal Injury</td>\n",
       "      <td>Non-Fatal Injury</td>\n",
       "    </tr>\n",
       "    <tr>\n",
       "      <th>3308</th>\n",
       "      <td>Non-Fatal Injury</td>\n",
       "      <td>Non-Fatal Injury</td>\n",
       "    </tr>\n",
       "    <tr>\n",
       "      <th>12966</th>\n",
       "      <td>Non-Fatal Injury</td>\n",
       "      <td>Non-Fatal Injury</td>\n",
       "    </tr>\n",
       "  </tbody>\n",
       "</table>\n",
       "<p>4024 rows × 2 columns</p>\n",
       "</div>"
      ],
      "text/plain": [
       "             Prediction            Actual\n",
       "5633   Non-Fatal Injury  Non-Fatal Injury\n",
       "3745   Non-Fatal Injury             Fatal\n",
       "3497   Non-Fatal Injury  Non-Fatal Injury\n",
       "2305   Non-Fatal Injury  Non-Fatal Injury\n",
       "14492  Non-Fatal Injury             Fatal\n",
       "...                 ...               ...\n",
       "13839  Non-Fatal Injury  Non-Fatal Injury\n",
       "913    Non-Fatal Injury             Fatal\n",
       "2588   Non-Fatal Injury  Non-Fatal Injury\n",
       "3308   Non-Fatal Injury  Non-Fatal Injury\n",
       "12966  Non-Fatal Injury  Non-Fatal Injury\n",
       "\n",
       "[4024 rows x 2 columns]"
      ]
     },
     "execution_count": 44,
     "metadata": {},
     "output_type": "execute_result"
    }
   ],
   "source": [
    "predictions = Fatality_classifier.predict(X_test)\n",
    "pd.DataFrame({\"Prediction\": predictions, \"Actual\": y_test})"
   ]
  },
  {
   "cell_type": "markdown",
   "metadata": {},
   "source": [
    "######## List for user to select  (maybe drop down menu ??  \"Other\" or \"Unknown\" is not for option)"
   ]
  },
  {
   "cell_type": "code",
   "execution_count": 64,
   "metadata": {},
   "outputs": [
    {
     "name": "stdout",
     "output_type": "stream",
     "text": [
      "Features are under the 6 categories: \n",
      "---------------------------------\n",
      "#1.HOUR:\n",
      " [0, 1, 2, 3, 4, 5, 6, 7, 8, 9, 10, 11, 12, 13, 14, 15, 16, 17, 18, 19, 20, 21, 22, 23]\n",
      "#2.ROAD CLASS:\n",
      "['Collector', 'Expressway', 'Laneway', 'Local', 'Major Arterial', 'Major Arterial Ramp', 'Minor Arterial', 'Other', 'Pending', 'Unknown']\n",
      "#3.Traffic Control:\n",
      "['No Control', 'PXO - No Ped', 'Pedestrian Crossover', 'Police Control', 'School Guard', 'Stop Sign', 'Streetcar (Stop for)', 'Traffic Controller', 'Traffic Gate', 'Traffic Signal', 'Unknown', 'Yield Sign']\n",
      "#4.Visibility:\n",
      "['Clear', 'Drifting Snow', 'Fog, Mist, Smoke, Dust', 'Freezing Rain', 'Other', 'Rain', 'Snow', 'Strong wind', 'Unknown']\n",
      "#5.Light:\n",
      "['Dark', 'Dark, artificial', 'Dawn', 'Dawn, artificial', 'Daylight', 'Daylight, artificial', 'Dusk', 'Dusk, artificial', 'Other']\n",
      "#6.Road Condition:\n",
      "['Dry', 'Ice', 'Loose Sand or Gravel', 'Loose Snow', 'Other', 'Packed Snow', 'Slush', 'Spilled liquid', 'Unknown', 'Wet']\n"
     ]
    }
   ],
   "source": [
    "HOUR_labels = list(HOUR_LE.classes_)\n",
    "ROADCLASS_labels = list(Road_class_LE.classes_)\n",
    "TRAFFCTL_labels = list(TRAFFCTL_LE.classes_)\n",
    "VISIBILITY_labels = list(VISIBILITY_LE.classes_)\n",
    "LIGHT_labels = list(LIGHT_LE.classes_)\n",
    "RDSFCOND_labels = list(RDSFCOND_LE.classes_)\n",
    "\n",
    "print(\"Features are under the 6 categories: \")\n",
    "print(\"---------------------------------\")\n",
    "print(f\"#1.HOUR:\\n {HOUR_labels}\") \n",
    "print(f\"#2.ROAD CLASS:\\n{ROADCLASS_labels}\") \n",
    "print(f\"#3.Traffic Control:\\n{TRAFFCTL_labels}\") \n",
    "print(f\"#4.Visibility:\\n{VISIBILITY_labels}\") \n",
    "print(f\"#5.Light:\\n{LIGHT_labels}\") \n",
    "print(f\"#6.Road Condition:\\n{RDSFCOND_labels}\") \n",
    "\n",
    "# User can select from the drop down menu except \"Other\", \"Unknown\"\n",
    "# if user select 11 for HOUR category, it means user drives or on the road b/t 11 ~ 12"
   ]
  },
  {
   "cell_type": "code",
   "execution_count": 46,
   "metadata": {},
   "outputs": [
    {
     "data": {
      "text/plain": [
       "['Fatality_classifier_LogisticRegression.sav']"
      ]
     },
     "execution_count": 46,
     "metadata": {},
     "output_type": "execute_result"
    }
   ],
   "source": [
    "# Save the model\n",
    "joblib.dump(Fatality_classifier,\"Fatality_classifier_LogisticRegression.sav\")"
   ]
  },
  {
   "cell_type": "markdown",
   "metadata": {},
   "source": [
    "#######################    Random Forest Classifier  to check the importance of features"
   ]
  },
  {
   "cell_type": "code",
   "execution_count": 47,
   "metadata": {},
   "outputs": [],
   "source": [
    "from sklearn.ensemble import RandomForestClassifier"
   ]
  },
  {
   "cell_type": "code",
   "execution_count": 48,
   "metadata": {},
   "outputs": [
    {
     "data": {
      "text/plain": [
       "0.8867346093296876"
      ]
     },
     "execution_count": 48,
     "metadata": {},
     "output_type": "execute_result"
    }
   ],
   "source": [
    "# Create a random forest classifier\n",
    "rf = RandomForestClassifier(n_estimators=200)\n",
    "rf = rf.fit(X_train, y_train)\n",
    "\n",
    "rf.score(X_train, y_train)"
   ]
  },
  {
   "cell_type": "code",
   "execution_count": 49,
   "metadata": {},
   "outputs": [
    {
     "data": {
      "text/plain": [
       "0.8700298210735586"
      ]
     },
     "execution_count": 49,
     "metadata": {},
     "output_type": "execute_result"
    }
   ],
   "source": [
    "rf.score(X_test, y_test)"
   ]
  },
  {
   "cell_type": "code",
   "execution_count": 56,
   "metadata": {},
   "outputs": [],
   "source": [
    "# Random Forests in sklearn will automatically calculate feature importance\n",
    "importances = rf.feature_importances_"
   ]
  },
  {
   "cell_type": "code",
   "execution_count": 57,
   "metadata": {},
   "outputs": [
    {
     "data": {
      "text/plain": [
       "[(0.06324384245471008, 'Major Arterial'),\n",
       " (0.04804256068698057, 'Minor Arterial'),\n",
       " (0.04451989105236415, 'Dry'),\n",
       " (0.044458967676306714, 'Wet'),\n",
       " (0.04402653400249351, 'Clear'),\n",
       " (0.03744323133840926, 'Collector'),\n",
       " (0.03285150832909458, 'No Control'),\n",
       " (0.03054276001003737, 'Rain'),\n",
       " (0.029600292338819455, 'Local'),\n",
       " (0.028930698829970344, 'Dark'),\n",
       " (0.026476518805083962, 'Traffic Signal'),\n",
       " (0.026395718721197545, 'Dark, artificial'),\n",
       " (0.025758402990459634, 18),\n",
       " (0.025301493006538448, 'Daylight'),\n",
       " (0.02329713857152872, 20),\n",
       " (0.02306029254916751, 17),\n",
       " (0.02050973208009279, 21),\n",
       " (0.020243146398460223, 'Stop Sign'),\n",
       " (0.019959995912632846, 9),\n",
       " (0.01992567771434912, 7),\n",
       " (0.0193997462274828, 'Snow'),\n",
       " (0.018216872290996545, 19),\n",
       " (0.018143385375100827, 6),\n",
       " (0.017654507199254713, 5),\n",
       " (0.01548745872653114, 16),\n",
       " (0.015277719192478034, 3),\n",
       " (0.014546585604902509, 1),\n",
       " (0.014186644628859655, 8),\n",
       " (0.01397387678260984, 15),\n",
       " (0.01380820883049731, 2),\n",
       " (0.013733838336352087, 23),\n",
       " (0.013378515748567682, 10),\n",
       " (0.01310987610256405, 22),\n",
       " (0.011737934529276397, 11),\n",
       " (0.011729916469354259, 'Pedestrian Crossover'),\n",
       " (0.011709715137673424, 12),\n",
       " (0.011310459352998325, 14),\n",
       " (0.009791915551900154, 'Loose Snow'),\n",
       " (0.00954625868389254, 4),\n",
       " (0.00884745535261924, 13),\n",
       " (0.008598703214589077, 'Dusk'),\n",
       " (0.007549714874505794, 'Laneway'),\n",
       " (0.007514872839609074, 'Slush'),\n",
       " (0.00713711706561935, 'Ice'),\n",
       " (0.006992283423352798, 'Dusk, artificial'),\n",
       " (0.006847861634780349, 'Daylight, artificial'),\n",
       " (0.006589402775499604, 'Dawn'),\n",
       " (0.005951118180242884, 'Dawn, artificial'),\n",
       " (0.005526558913825799, 'Fog, Mist, Smoke, Dust'),\n",
       " (0.0051793024716812516, 'Packed Snow'),\n",
       " (0.004359469217320665, 0),\n",
       " (0.004191104849587897, 'Freezing Rain'),\n",
       " (0.003944684897509818, 'Traffic Gate'),\n",
       " (0.0031550746001479725, 'Traffic Controller'),\n",
       " (0.002957755408247263, 'Expressway'),\n",
       " (0.0012292202202167214, 'Drifting Snow'),\n",
       " (0.000649237176153842, 'Pending'),\n",
       " (0.00047318150125795087, 'Loose Sand or Gravel'),\n",
       " (0.000249014501852529, 'Streetcar (Stop for)'),\n",
       " (0.00020259826967019298, 'Strong wind'),\n",
       " (0.00017917378603869968, 'Yield Sign'),\n",
       " (0.00014148674774884287, 'PXO - No Ped'),\n",
       " (0.00013609709023463965, 'Police Control'),\n",
       " (4.515411648333393e-05, 'Spilled liquid'),\n",
       " (2.0518631215323858e-05, 'School Guard'),\n",
       " (0.0, 'Major Arterial Ramp')]"
      ]
     },
     "execution_count": 57,
     "metadata": {},
     "output_type": "execute_result"
    }
   ],
   "source": [
    "# sort the features by their importance\n",
    "sorted(zip(rf.feature_importances_, X_features.columns), reverse=True)"
   ]
  },
  {
   "cell_type": "code",
   "execution_count": null,
   "metadata": {},
   "outputs": [],
   "source": []
  }
 ],
 "metadata": {
  "kernelspec": {
   "display_name": "Python 3",
   "language": "python",
   "name": "python3"
  },
  "language_info": {
   "codemirror_mode": {
    "name": "ipython",
    "version": 3
   },
   "file_extension": ".py",
   "mimetype": "text/x-python",
   "name": "python",
   "nbconvert_exporter": "python",
   "pygments_lexer": "ipython3",
   "version": "3.7.6"
  },
  "toc": {
   "base_numbering": 1,
   "nav_menu": {},
   "number_sections": true,
   "sideBar": true,
   "skip_h1_title": false,
   "title_cell": "Table of Contents",
   "title_sidebar": "Contents",
   "toc_cell": false,
   "toc_position": {},
   "toc_section_display": true,
   "toc_window_display": false
  }
 },
 "nbformat": 4,
 "nbformat_minor": 4
}
