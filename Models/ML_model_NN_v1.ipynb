{
 "cells": [
  {
   "cell_type": "code",
   "execution_count": 6,
   "metadata": {},
   "outputs": [],
   "source": [
    "########### ML_model_neural network ###################"
   ]
  },
  {
   "cell_type": "code",
   "execution_count": 7,
   "metadata": {},
   "outputs": [],
   "source": [
    "# Update sklearn to prevent version mismatches\n",
    "#!pip install sklearn --upgrade"
   ]
  },
  {
   "cell_type": "markdown",
   "metadata": {},
   "source": [
    "#### Data preparation "
   ]
  },
  {
   "cell_type": "code",
   "execution_count": 8,
   "metadata": {},
   "outputs": [],
   "source": [
    "# dependency\n",
    "import numpy as np\n",
    "import pandas as pd"
   ]
  },
  {
   "cell_type": "code",
<<<<<<< HEAD
   "execution_count": 9,
=======
   "execution_count": 4,
>>>>>>> bdb7213be4bf37e6bf71e31ffa935fc8c297fef9
   "metadata": {},
   "outputs": [
    {
     "data": {
      "text/html": [
       "<div>\n",
       "<style scoped>\n",
       "    .dataframe tbody tr th:only-of-type {\n",
       "        vertical-align: middle;\n",
       "    }\n",
       "\n",
       "    .dataframe tbody tr th {\n",
       "        vertical-align: top;\n",
       "    }\n",
       "\n",
       "    .dataframe thead th {\n",
       "        text-align: right;\n",
       "    }\n",
       "</style>\n",
       "<table border=\"1\" class=\"dataframe\">\n",
       "  <thead>\n",
       "    <tr style=\"text-align: right;\">\n",
       "      <th></th>\n",
       "      <th>ACCNUM</th>\n",
       "      <th>DATE</th>\n",
       "      <th>TIME</th>\n",
       "      <th>HOUR</th>\n",
       "      <th>STREET1</th>\n",
       "      <th>STREET2</th>\n",
       "      <th>ROAD_CLASS</th>\n",
       "      <th>LATITUDE</th>\n",
       "      <th>LONGITUDE</th>\n",
       "      <th>LOCCOORD</th>\n",
       "      <th>...</th>\n",
       "      <th>TRUCK</th>\n",
       "      <th>TRSN_CITY_VEH</th>\n",
       "      <th>EMERG_VEH</th>\n",
       "      <th>SPEEDING</th>\n",
       "      <th>AG_DRIV</th>\n",
       "      <th>REDLIGHT</th>\n",
       "      <th>ALCOHOL</th>\n",
       "      <th>DISABILITY</th>\n",
       "      <th>Hood_ID</th>\n",
       "      <th>Neighbourhood</th>\n",
       "    </tr>\n",
       "  </thead>\n",
       "  <tbody>\n",
       "    <tr>\n",
       "      <th>0</th>\n",
       "      <td>893184</td>\n",
       "      <td>2006/01/01 05:00:00+00</td>\n",
       "      <td>236</td>\n",
       "      <td>2</td>\n",
       "      <td>WOODBINE AVE</td>\n",
       "      <td>O CONNOR DR</td>\n",
       "      <td>Major Arterial</td>\n",
       "      <td>43.699595</td>\n",
       "      <td>-79.318797</td>\n",
       "      <td>Intersection</td>\n",
       "      <td>...</td>\n",
       "      <td>No</td>\n",
       "      <td>No</td>\n",
       "      <td>No</td>\n",
       "      <td>Yes</td>\n",
       "      <td>Yes</td>\n",
       "      <td>No</td>\n",
       "      <td>Yes</td>\n",
       "      <td>No</td>\n",
       "      <td>60</td>\n",
       "      <td>Woodbine-Lumsden (60)</td>\n",
       "    </tr>\n",
       "    <tr>\n",
       "      <th>1</th>\n",
       "      <td>893184</td>\n",
       "      <td>2006/01/01 05:00:00+00</td>\n",
       "      <td>236</td>\n",
       "      <td>2</td>\n",
       "      <td>WOODBINE AVE</td>\n",
       "      <td>O CONNOR DR</td>\n",
       "      <td>Major Arterial</td>\n",
       "      <td>43.699595</td>\n",
       "      <td>-79.318797</td>\n",
       "      <td>Intersection</td>\n",
       "      <td>...</td>\n",
       "      <td>No</td>\n",
       "      <td>No</td>\n",
       "      <td>No</td>\n",
       "      <td>Yes</td>\n",
       "      <td>Yes</td>\n",
       "      <td>No</td>\n",
       "      <td>Yes</td>\n",
       "      <td>No</td>\n",
       "      <td>60</td>\n",
       "      <td>Woodbine-Lumsden (60)</td>\n",
       "    </tr>\n",
       "    <tr>\n",
       "      <th>2</th>\n",
       "      <td>893184</td>\n",
       "      <td>2006/01/01 05:00:00+00</td>\n",
       "      <td>236</td>\n",
       "      <td>2</td>\n",
       "      <td>WOODBINE AVE</td>\n",
       "      <td>O CONNOR DR</td>\n",
       "      <td>Major Arterial</td>\n",
       "      <td>43.699595</td>\n",
       "      <td>-79.318797</td>\n",
       "      <td>Intersection</td>\n",
       "      <td>...</td>\n",
       "      <td>No</td>\n",
       "      <td>No</td>\n",
       "      <td>No</td>\n",
       "      <td>Yes</td>\n",
       "      <td>Yes</td>\n",
       "      <td>No</td>\n",
       "      <td>Yes</td>\n",
       "      <td>No</td>\n",
       "      <td>60</td>\n",
       "      <td>Woodbine-Lumsden (60)</td>\n",
       "    </tr>\n",
       "    <tr>\n",
       "      <th>3</th>\n",
       "      <td>893184</td>\n",
       "      <td>2006/01/01 05:00:00+00</td>\n",
       "      <td>236</td>\n",
       "      <td>2</td>\n",
       "      <td>WOODBINE AVE</td>\n",
       "      <td>O CONNOR DR</td>\n",
       "      <td>Major Arterial</td>\n",
       "      <td>43.699595</td>\n",
       "      <td>-79.318797</td>\n",
       "      <td>Intersection</td>\n",
       "      <td>...</td>\n",
       "      <td>No</td>\n",
       "      <td>No</td>\n",
       "      <td>No</td>\n",
       "      <td>Yes</td>\n",
       "      <td>Yes</td>\n",
       "      <td>No</td>\n",
       "      <td>Yes</td>\n",
       "      <td>No</td>\n",
       "      <td>60</td>\n",
       "      <td>Woodbine-Lumsden (60)</td>\n",
       "    </tr>\n",
       "    <tr>\n",
       "      <th>4</th>\n",
       "      <td>893184</td>\n",
       "      <td>2006/01/01 05:00:00+00</td>\n",
       "      <td>236</td>\n",
       "      <td>2</td>\n",
       "      <td>WOODBINE AVE</td>\n",
       "      <td>O CONNOR DR</td>\n",
       "      <td>Major Arterial</td>\n",
       "      <td>43.699595</td>\n",
       "      <td>-79.318797</td>\n",
       "      <td>Intersection</td>\n",
       "      <td>...</td>\n",
       "      <td>No</td>\n",
       "      <td>No</td>\n",
       "      <td>No</td>\n",
       "      <td>Yes</td>\n",
       "      <td>Yes</td>\n",
       "      <td>No</td>\n",
       "      <td>Yes</td>\n",
       "      <td>No</td>\n",
       "      <td>60</td>\n",
       "      <td>Woodbine-Lumsden (60)</td>\n",
       "    </tr>\n",
       "  </tbody>\n",
       "</table>\n",
       "<p>5 rows × 36 columns</p>\n",
       "</div>"
      ],
      "text/plain": [
       "   ACCNUM                    DATE  TIME  HOUR       STREET1      STREET2  \\\n",
       "0  893184  2006/01/01 05:00:00+00   236     2  WOODBINE AVE  O CONNOR DR   \n",
       "1  893184  2006/01/01 05:00:00+00   236     2  WOODBINE AVE  O CONNOR DR   \n",
       "2  893184  2006/01/01 05:00:00+00   236     2  WOODBINE AVE  O CONNOR DR   \n",
       "3  893184  2006/01/01 05:00:00+00   236     2  WOODBINE AVE  O CONNOR DR   \n",
       "4  893184  2006/01/01 05:00:00+00   236     2  WOODBINE AVE  O CONNOR DR   \n",
       "\n",
       "       ROAD_CLASS   LATITUDE  LONGITUDE      LOCCOORD  ... TRUCK  \\\n",
       "0  Major Arterial  43.699595 -79.318797  Intersection  ...    No   \n",
       "1  Major Arterial  43.699595 -79.318797  Intersection  ...    No   \n",
       "2  Major Arterial  43.699595 -79.318797  Intersection  ...    No   \n",
       "3  Major Arterial  43.699595 -79.318797  Intersection  ...    No   \n",
       "4  Major Arterial  43.699595 -79.318797  Intersection  ...    No   \n",
       "\n",
       "  TRSN_CITY_VEH EMERG_VEH SPEEDING AG_DRIV REDLIGHT ALCOHOL DISABILITY  \\\n",
       "0            No        No      Yes     Yes       No     Yes         No   \n",
       "1            No        No      Yes     Yes       No     Yes         No   \n",
       "2            No        No      Yes     Yes       No     Yes         No   \n",
       "3            No        No      Yes     Yes       No     Yes         No   \n",
       "4            No        No      Yes     Yes       No     Yes         No   \n",
       "\n",
       "  Hood_ID          Neighbourhood  \n",
       "0      60  Woodbine-Lumsden (60)  \n",
       "1      60  Woodbine-Lumsden (60)  \n",
       "2      60  Woodbine-Lumsden (60)  \n",
       "3      60  Woodbine-Lumsden (60)  \n",
       "4      60  Woodbine-Lumsden (60)  \n",
       "\n",
       "[5 rows x 36 columns]"
      ]
     },
<<<<<<< HEAD
     "execution_count": 9,
=======
     "execution_count": 4,
>>>>>>> bdb7213be4bf37e6bf71e31ffa935fc8c297fef9
     "metadata": {},
     "output_type": "execute_result"
    }
   ],
   "source": [
    "df = pd.read_csv(\"../Data/ksi_cleaned.csv\")\n",
    "df.head()"
   ]
  },
  {
   "cell_type": "code",
<<<<<<< HEAD
   "execution_count": 10,
=======
   "execution_count": 5,
>>>>>>> bdb7213be4bf37e6bf71e31ffa935fc8c297fef9
   "metadata": {},
   "outputs": [
    {
     "data": {
      "text/plain": [
       "Index(['ACCNUM', 'DATE', 'TIME', 'HOUR', 'STREET1', 'STREET2', 'ROAD_CLASS',\n",
       "       'LATITUDE', 'LONGITUDE', 'LOCCOORD', 'TRAFFCTL', 'VISIBILITY', 'LIGHT',\n",
       "       'RDSFCOND', 'ACCLASS', 'INVTYPE', 'INVAGE', 'Age_mid', 'INJURY',\n",
       "       'VEHTYPE', 'DRIVACT', 'DRIVCOND', 'PEDESTRIAN', 'CYCLIST', 'AUTOMOBILE',\n",
       "       'MOTORCYCLE', 'TRUCK', 'TRSN_CITY_VEH', 'EMERG_VEH', 'SPEEDING',\n",
       "       'AG_DRIV', 'REDLIGHT', 'ALCOHOL', 'DISABILITY', 'Hood_ID',\n",
       "       'Neighbourhood'],\n",
       "      dtype='object')"
      ]
     },
<<<<<<< HEAD
     "execution_count": 10,
=======
     "execution_count": 5,
>>>>>>> bdb7213be4bf37e6bf71e31ffa935fc8c297fef9
     "metadata": {},
     "output_type": "execute_result"
    }
   ],
   "source": [
    "df.columns"
   ]
  },
  {
   "cell_type": "code",
<<<<<<< HEAD
   "execution_count": 11,
=======
   "execution_count": 6,
>>>>>>> bdb7213be4bf37e6bf71e31ffa935fc8c297fef9
   "metadata": {},
   "outputs": [
    {
     "name": "stdout",
     "output_type": "stream",
     "text": [
      "(16093, 6) (16093,)\n"
     ]
    }
   ],
   "source": [
    "# Select features then Assign X (data) and y (target)\n",
    "X = df[[\"HOUR\", \"ROAD_CLASS\" , \"TRAFFCTL\", \"VISIBILITY\", \"LIGHT\", \"RDSFCOND\"]]\n",
    "y = df[\"ACCLASS\"]\n",
    "print(X.shape, y.shape)"
   ]
  },
  {
   "cell_type": "code",
<<<<<<< HEAD
   "execution_count": 12,
=======
   "execution_count": 7,
>>>>>>> bdb7213be4bf37e6bf71e31ffa935fc8c297fef9
   "metadata": {},
   "outputs": [
    {
     "data": {
      "text/plain": [
       "Index(['HOUR', 'ROAD_CLASS', 'TRAFFCTL', 'VISIBILITY', 'LIGHT', 'RDSFCOND'], dtype='object')"
      ]
     },
<<<<<<< HEAD
     "execution_count": 12,
=======
     "execution_count": 7,
>>>>>>> bdb7213be4bf37e6bf71e31ffa935fc8c297fef9
     "metadata": {},
     "output_type": "execute_result"
    }
   ],
   "source": [
    "#features : all categorical value\n",
    "X.columns "
   ]
  },
  {
   "cell_type": "markdown",
   "metadata": {},
   "source": [
    "#### Preprocessing"
   ]
  },
  {
   "cell_type": "markdown",
   "metadata": {},
   "source": [
    "Transform to numeric representation and add as a new columns"
   ]
  },
  {
   "cell_type": "code",
<<<<<<< HEAD
   "execution_count": 13,
=======
   "execution_count": 8,
>>>>>>> bdb7213be4bf37e6bf71e31ffa935fc8c297fef9
   "metadata": {},
   "outputs": [
    {
     "name": "stderr",
     "output_type": "stream",
     "text": [
      "/Users/nehanayeem/opt/anaconda3/lib/python3.7/site-packages/ipykernel_launcher.py:6: SettingWithCopyWarning: \n",
      "A value is trying to be set on a copy of a slice from a DataFrame.\n",
      "Try using .loc[row_indexer,col_indexer] = value instead\n",
      "\n",
      "See the caveats in the documentation: https://pandas.pydata.org/pandas-docs/stable/user_guide/indexing.html#returning-a-view-versus-a-copy\n",
      "  \n",
      "/Users/nehanayeem/opt/anaconda3/lib/python3.7/site-packages/ipykernel_launcher.py:11: SettingWithCopyWarning: \n",
      "A value is trying to be set on a copy of a slice from a DataFrame.\n",
      "Try using .loc[row_indexer,col_indexer] = value instead\n",
      "\n",
      "See the caveats in the documentation: https://pandas.pydata.org/pandas-docs/stable/user_guide/indexing.html#returning-a-view-versus-a-copy\n",
      "  # This is added back by InteractiveShellApp.init_path()\n",
      "/Users/nehanayeem/opt/anaconda3/lib/python3.7/site-packages/ipykernel_launcher.py:16: SettingWithCopyWarning: \n",
      "A value is trying to be set on a copy of a slice from a DataFrame.\n",
      "Try using .loc[row_indexer,col_indexer] = value instead\n",
      "\n",
      "See the caveats in the documentation: https://pandas.pydata.org/pandas-docs/stable/user_guide/indexing.html#returning-a-view-versus-a-copy\n",
      "  app.launch_new_instance()\n",
      "/Users/nehanayeem/opt/anaconda3/lib/python3.7/site-packages/ipykernel_launcher.py:21: SettingWithCopyWarning: \n",
      "A value is trying to be set on a copy of a slice from a DataFrame.\n",
      "Try using .loc[row_indexer,col_indexer] = value instead\n",
      "\n",
      "See the caveats in the documentation: https://pandas.pydata.org/pandas-docs/stable/user_guide/indexing.html#returning-a-view-versus-a-copy\n",
      "/Users/nehanayeem/opt/anaconda3/lib/python3.7/site-packages/ipykernel_launcher.py:26: SettingWithCopyWarning: \n",
      "A value is trying to be set on a copy of a slice from a DataFrame.\n",
      "Try using .loc[row_indexer,col_indexer] = value instead\n",
      "\n",
      "See the caveats in the documentation: https://pandas.pydata.org/pandas-docs/stable/user_guide/indexing.html#returning-a-view-versus-a-copy\n",
      "/Users/nehanayeem/opt/anaconda3/lib/python3.7/site-packages/ipykernel_launcher.py:31: SettingWithCopyWarning: \n",
      "A value is trying to be set on a copy of a slice from a DataFrame.\n",
      "Try using .loc[row_indexer,col_indexer] = value instead\n",
      "\n",
      "See the caveats in the documentation: https://pandas.pydata.org/pandas-docs/stable/user_guide/indexing.html#returning-a-view-versus-a-copy\n"
     ]
    },
    {
     "data": {
      "text/html": [
       "<div>\n",
       "<style scoped>\n",
       "    .dataframe tbody tr th:only-of-type {\n",
       "        vertical-align: middle;\n",
       "    }\n",
       "\n",
       "    .dataframe tbody tr th {\n",
       "        vertical-align: top;\n",
       "    }\n",
       "\n",
       "    .dataframe thead th {\n",
       "        text-align: right;\n",
       "    }\n",
       "</style>\n",
       "<table border=\"1\" class=\"dataframe\">\n",
       "  <thead>\n",
       "    <tr style=\"text-align: right;\">\n",
       "      <th></th>\n",
       "      <th>HOUR</th>\n",
       "      <th>ROAD_CLASS</th>\n",
       "      <th>TRAFFCTL</th>\n",
       "      <th>VISIBILITY</th>\n",
       "      <th>LIGHT</th>\n",
       "      <th>RDSFCOND</th>\n",
       "      <th>HOUR_Label</th>\n",
       "      <th>ROADCLASS_Label</th>\n",
       "      <th>TRAFFCTL_Label</th>\n",
       "      <th>VISIBILITY_Label</th>\n",
       "      <th>LIGHT_Label</th>\n",
       "      <th>RDSFCOND_Label</th>\n",
       "    </tr>\n",
       "  </thead>\n",
       "  <tbody>\n",
       "    <tr>\n",
       "      <th>0</th>\n",
       "      <td>2</td>\n",
       "      <td>Major Arterial</td>\n",
       "      <td>No Control</td>\n",
       "      <td>Clear</td>\n",
       "      <td>Dark</td>\n",
       "      <td>Wet</td>\n",
       "      <td>2</td>\n",
       "      <td>4</td>\n",
       "      <td>0</td>\n",
       "      <td>0</td>\n",
       "      <td>0</td>\n",
       "      <td>9</td>\n",
       "    </tr>\n",
       "    <tr>\n",
       "      <th>1</th>\n",
       "      <td>2</td>\n",
       "      <td>Major Arterial</td>\n",
       "      <td>No Control</td>\n",
       "      <td>Clear</td>\n",
       "      <td>Dark</td>\n",
       "      <td>Wet</td>\n",
       "      <td>2</td>\n",
       "      <td>4</td>\n",
       "      <td>0</td>\n",
       "      <td>0</td>\n",
       "      <td>0</td>\n",
       "      <td>9</td>\n",
       "    </tr>\n",
       "    <tr>\n",
       "      <th>2</th>\n",
       "      <td>2</td>\n",
       "      <td>Major Arterial</td>\n",
       "      <td>No Control</td>\n",
       "      <td>Clear</td>\n",
       "      <td>Dark</td>\n",
       "      <td>Wet</td>\n",
       "      <td>2</td>\n",
       "      <td>4</td>\n",
       "      <td>0</td>\n",
       "      <td>0</td>\n",
       "      <td>0</td>\n",
       "      <td>9</td>\n",
       "    </tr>\n",
       "    <tr>\n",
       "      <th>3</th>\n",
       "      <td>2</td>\n",
       "      <td>Major Arterial</td>\n",
       "      <td>No Control</td>\n",
       "      <td>Clear</td>\n",
       "      <td>Dark</td>\n",
       "      <td>Wet</td>\n",
       "      <td>2</td>\n",
       "      <td>4</td>\n",
       "      <td>0</td>\n",
       "      <td>0</td>\n",
       "      <td>0</td>\n",
       "      <td>9</td>\n",
       "    </tr>\n",
       "    <tr>\n",
       "      <th>4</th>\n",
       "      <td>2</td>\n",
       "      <td>Major Arterial</td>\n",
       "      <td>No Control</td>\n",
       "      <td>Clear</td>\n",
       "      <td>Dark</td>\n",
       "      <td>Wet</td>\n",
       "      <td>2</td>\n",
       "      <td>4</td>\n",
       "      <td>0</td>\n",
       "      <td>0</td>\n",
       "      <td>0</td>\n",
       "      <td>9</td>\n",
       "    </tr>\n",
       "  </tbody>\n",
       "</table>\n",
       "</div>"
      ],
      "text/plain": [
       "   HOUR      ROAD_CLASS    TRAFFCTL VISIBILITY LIGHT RDSFCOND  HOUR_Label  \\\n",
       "0     2  Major Arterial  No Control      Clear  Dark      Wet           2   \n",
       "1     2  Major Arterial  No Control      Clear  Dark      Wet           2   \n",
       "2     2  Major Arterial  No Control      Clear  Dark      Wet           2   \n",
       "3     2  Major Arterial  No Control      Clear  Dark      Wet           2   \n",
       "4     2  Major Arterial  No Control      Clear  Dark      Wet           2   \n",
       "\n",
       "   ROADCLASS_Label  TRAFFCTL_Label  VISIBILITY_Label  LIGHT_Label  \\\n",
       "0                4               0                 0            0   \n",
       "1                4               0                 0            0   \n",
       "2                4               0                 0            0   \n",
       "3                4               0                 0            0   \n",
       "4                4               0                 0            0   \n",
       "\n",
       "   RDSFCOND_Label  \n",
       "0               9  \n",
       "1               9  \n",
       "2               9  \n",
       "3               9  \n",
       "4               9  "
      ]
     },
<<<<<<< HEAD
     "execution_count": 13,
=======
     "execution_count": 8,
>>>>>>> bdb7213be4bf37e6bf71e31ffa935fc8c297fef9
     "metadata": {},
     "output_type": "execute_result"
    }
   ],
   "source": [
    "from sklearn.preprocessing import LabelEncoder,OneHotEncoder\n",
    "\n",
    "#0. HOUR\n",
    "HOUR_LE = LabelEncoder()\n",
    "HOUR_labels = HOUR_LE.fit_transform(X.HOUR)\n",
    "X[\"HOUR_Label\"]= HOUR_labels\n",
    "\n",
    "#1.'ROAD_CLASS'\n",
    "Road_class_LE = LabelEncoder()\n",
    "Road_class_labels = Road_class_LE.fit_transform(X.ROAD_CLASS)\n",
    "X[\"ROADCLASS_Label\"]=Road_class_labels\n",
    "\n",
    "#2.'TRAFFCTL'\n",
    "TRAFFCTL_LE = LabelEncoder()\n",
    "TRAFFCTL_labels = TRAFFCTL_LE.fit_transform(X.TRAFFCTL)\n",
    "X[\"TRAFFCTL_Label\"]=TRAFFCTL_labels\n",
    "\n",
    "#3.'VISIBILITY'\n",
    "VISIBILITY_LE = LabelEncoder()\n",
    "VISIBILITY_labels = VISIBILITY_LE.fit_transform(X.VISIBILITY)\n",
    "X[\"VISIBILITY_Label\"]=VISIBILITY_labels\n",
    "\n",
    "#4.'LIGHT'\n",
    "LIGHT_LE = LabelEncoder()\n",
    "LIGHT_labels = LIGHT_LE.fit_transform(X.LIGHT)\n",
    "X[\"LIGHT_Label\"]=LIGHT_labels\n",
    "\n",
    "#5.'RDSFCOND'\n",
    "RDSFCOND_LE = LabelEncoder()\n",
    "RDSFCOND_labels = RDSFCOND_LE.fit_transform(X.RDSFCOND)\n",
    "X[\"RDSFCOND_Label\"]=RDSFCOND_labels\n",
    "\n",
    "X.head()"
   ]
  },
  {
   "cell_type": "code",
<<<<<<< HEAD
   "execution_count": 14,
=======
   "execution_count": 9,
>>>>>>> bdb7213be4bf37e6bf71e31ffa935fc8c297fef9
   "metadata": {},
   "outputs": [],
   "source": [
    "#X.to_csv(\"X_label_encoded.csv\")"
   ]
  },
  {
   "cell_type": "markdown",
   "metadata": {},
   "source": [
    "one-hot encoding scheme easily by leveraging the \"get_dummies\"(…) function from pandas."
   ]
  },
  {
   "cell_type": "code",
<<<<<<< HEAD
   "execution_count": 15,
=======
   "execution_count": 10,
>>>>>>> bdb7213be4bf37e6bf71e31ffa935fc8c297fef9
   "metadata": {},
   "outputs": [
    {
     "data": {
      "text/html": [
       "<div>\n",
       "<style scoped>\n",
       "    .dataframe tbody tr th:only-of-type {\n",
       "        vertical-align: middle;\n",
       "    }\n",
       "\n",
       "    .dataframe tbody tr th {\n",
       "        vertical-align: top;\n",
       "    }\n",
       "\n",
       "    .dataframe thead th {\n",
       "        text-align: right;\n",
       "    }\n",
       "</style>\n",
       "<table border=\"1\" class=\"dataframe\">\n",
       "  <thead>\n",
       "    <tr style=\"text-align: right;\">\n",
       "      <th></th>\n",
       "      <th>Dry</th>\n",
       "      <th>Ice</th>\n",
       "      <th>Loose Sand or Gravel</th>\n",
       "      <th>Loose Snow</th>\n",
       "      <th>Other</th>\n",
       "      <th>Packed Snow</th>\n",
       "      <th>Slush</th>\n",
       "      <th>Spilled liquid</th>\n",
       "      <th>Unknown</th>\n",
       "      <th>Wet</th>\n",
       "    </tr>\n",
       "  </thead>\n",
       "  <tbody>\n",
       "    <tr>\n",
       "      <th>0</th>\n",
       "      <td>0</td>\n",
       "      <td>0</td>\n",
       "      <td>0</td>\n",
       "      <td>0</td>\n",
       "      <td>0</td>\n",
       "      <td>0</td>\n",
       "      <td>0</td>\n",
       "      <td>0</td>\n",
       "      <td>0</td>\n",
       "      <td>1</td>\n",
       "    </tr>\n",
       "    <tr>\n",
       "      <th>1</th>\n",
       "      <td>0</td>\n",
       "      <td>0</td>\n",
       "      <td>0</td>\n",
       "      <td>0</td>\n",
       "      <td>0</td>\n",
       "      <td>0</td>\n",
       "      <td>0</td>\n",
       "      <td>0</td>\n",
       "      <td>0</td>\n",
       "      <td>1</td>\n",
       "    </tr>\n",
       "    <tr>\n",
       "      <th>2</th>\n",
       "      <td>0</td>\n",
       "      <td>0</td>\n",
       "      <td>0</td>\n",
       "      <td>0</td>\n",
       "      <td>0</td>\n",
       "      <td>0</td>\n",
       "      <td>0</td>\n",
       "      <td>0</td>\n",
       "      <td>0</td>\n",
       "      <td>1</td>\n",
       "    </tr>\n",
       "    <tr>\n",
       "      <th>3</th>\n",
       "      <td>0</td>\n",
       "      <td>0</td>\n",
       "      <td>0</td>\n",
       "      <td>0</td>\n",
       "      <td>0</td>\n",
       "      <td>0</td>\n",
       "      <td>0</td>\n",
       "      <td>0</td>\n",
       "      <td>0</td>\n",
       "      <td>1</td>\n",
       "    </tr>\n",
       "    <tr>\n",
       "      <th>4</th>\n",
       "      <td>0</td>\n",
       "      <td>0</td>\n",
       "      <td>0</td>\n",
       "      <td>0</td>\n",
       "      <td>0</td>\n",
       "      <td>0</td>\n",
       "      <td>0</td>\n",
       "      <td>0</td>\n",
       "      <td>0</td>\n",
       "      <td>1</td>\n",
       "    </tr>\n",
       "  </tbody>\n",
       "</table>\n",
       "</div>"
      ],
      "text/plain": [
       "   Dry  Ice  Loose Sand or Gravel  Loose Snow  Other  Packed Snow  Slush  \\\n",
       "0    0    0                     0           0      0            0      0   \n",
       "1    0    0                     0           0      0            0      0   \n",
       "2    0    0                     0           0      0            0      0   \n",
       "3    0    0                     0           0      0            0      0   \n",
       "4    0    0                     0           0      0            0      0   \n",
       "\n",
       "   Spilled liquid  Unknown  Wet  \n",
       "0               0        0    1  \n",
       "1               0        0    1  \n",
       "2               0        0    1  \n",
       "3               0        0    1  \n",
       "4               0        0    1  "
      ]
     },
<<<<<<< HEAD
     "execution_count": 15,
=======
     "execution_count": 10,
>>>>>>> bdb7213be4bf37e6bf71e31ffa935fc8c297fef9
     "metadata": {},
     "output_type": "execute_result"
    }
   ],
   "source": [
    "# 'HOUR' ,'ROAD_CLASS', 'TRAFFCTL', 'VISIBILITY', 'LIGHT', 'RDSFCOND'\n",
    "\n",
    "HOUR_onehot_features = pd.get_dummies(X['HOUR'])\n",
    "ROADCLASS_onehot_features = pd.get_dummies(X['ROAD_CLASS'])\n",
    "TRAFFCTL_onehot_features = pd.get_dummies(X['TRAFFCTL'])\n",
    "VISIBILITY_onehot_features = pd.get_dummies(X['VISIBILITY'])\n",
    "LIGHT_onehot_features = pd.get_dummies(X['LIGHT'])\n",
    "RDSFCOND_onehot_features = pd.get_dummies(X['RDSFCOND'])\n",
    "\n",
    "# check to see if it works\n",
    "RDSFCOND_onehot_features.head()"
   ]
  },
  {
   "cell_type": "code",
<<<<<<< HEAD
   "execution_count": 21,
=======
   "execution_count": 11,
>>>>>>> bdb7213be4bf37e6bf71e31ffa935fc8c297fef9
   "metadata": {},
   "outputs": [
    {
     "data": {
      "text/html": [
       "<div>\n",
       "<style scoped>\n",
       "    .dataframe tbody tr th:only-of-type {\n",
       "        vertical-align: middle;\n",
       "    }\n",
       "\n",
       "    .dataframe tbody tr th {\n",
       "        vertical-align: top;\n",
       "    }\n",
       "\n",
       "    .dataframe thead th {\n",
       "        text-align: right;\n",
       "    }\n",
       "</style>\n",
       "<table border=\"1\" class=\"dataframe\">\n",
       "  <thead>\n",
       "    <tr style=\"text-align: right;\">\n",
       "      <th></th>\n",
       "      <th>HOUR</th>\n",
       "      <th>ROAD_CLASS</th>\n",
       "      <th>TRAFFCTL</th>\n",
       "      <th>VISIBILITY</th>\n",
       "      <th>LIGHT</th>\n",
       "      <th>RDSFCOND</th>\n",
       "      <th>HOUR_Label</th>\n",
       "      <th>ROADCLASS_Label</th>\n",
       "      <th>TRAFFCTL_Label</th>\n",
       "      <th>VISIBILITY_Label</th>\n",
       "      <th>...</th>\n",
       "      <th>Dry</th>\n",
       "      <th>Ice</th>\n",
       "      <th>Loose Sand or Gravel</th>\n",
       "      <th>Loose Snow</th>\n",
       "      <th>Other</th>\n",
       "      <th>Packed Snow</th>\n",
       "      <th>Slush</th>\n",
       "      <th>Spilled liquid</th>\n",
       "      <th>Unknown</th>\n",
       "      <th>Wet</th>\n",
       "    </tr>\n",
       "  </thead>\n",
       "  <tbody>\n",
       "    <tr>\n",
       "      <th>0</th>\n",
       "      <td>2</td>\n",
       "      <td>Major Arterial</td>\n",
       "      <td>No Control</td>\n",
       "      <td>Clear</td>\n",
       "      <td>Dark</td>\n",
       "      <td>Wet</td>\n",
       "      <td>2</td>\n",
       "      <td>4</td>\n",
       "      <td>0</td>\n",
       "      <td>0</td>\n",
       "      <td>...</td>\n",
       "      <td>0</td>\n",
       "      <td>0</td>\n",
       "      <td>0</td>\n",
       "      <td>0</td>\n",
       "      <td>0</td>\n",
       "      <td>0</td>\n",
       "      <td>0</td>\n",
       "      <td>0</td>\n",
       "      <td>0</td>\n",
       "      <td>1</td>\n",
       "    </tr>\n",
       "    <tr>\n",
       "      <th>1</th>\n",
       "      <td>2</td>\n",
       "      <td>Major Arterial</td>\n",
       "      <td>No Control</td>\n",
       "      <td>Clear</td>\n",
       "      <td>Dark</td>\n",
       "      <td>Wet</td>\n",
       "      <td>2</td>\n",
       "      <td>4</td>\n",
       "      <td>0</td>\n",
       "      <td>0</td>\n",
       "      <td>...</td>\n",
       "      <td>0</td>\n",
       "      <td>0</td>\n",
       "      <td>0</td>\n",
       "      <td>0</td>\n",
       "      <td>0</td>\n",
       "      <td>0</td>\n",
       "      <td>0</td>\n",
       "      <td>0</td>\n",
       "      <td>0</td>\n",
       "      <td>1</td>\n",
       "    </tr>\n",
       "    <tr>\n",
       "      <th>2</th>\n",
       "      <td>2</td>\n",
       "      <td>Major Arterial</td>\n",
       "      <td>No Control</td>\n",
       "      <td>Clear</td>\n",
       "      <td>Dark</td>\n",
       "      <td>Wet</td>\n",
       "      <td>2</td>\n",
       "      <td>4</td>\n",
       "      <td>0</td>\n",
       "      <td>0</td>\n",
       "      <td>...</td>\n",
       "      <td>0</td>\n",
       "      <td>0</td>\n",
       "      <td>0</td>\n",
       "      <td>0</td>\n",
       "      <td>0</td>\n",
       "      <td>0</td>\n",
       "      <td>0</td>\n",
       "      <td>0</td>\n",
       "      <td>0</td>\n",
       "      <td>1</td>\n",
       "    </tr>\n",
       "    <tr>\n",
       "      <th>3</th>\n",
       "      <td>2</td>\n",
       "      <td>Major Arterial</td>\n",
       "      <td>No Control</td>\n",
       "      <td>Clear</td>\n",
       "      <td>Dark</td>\n",
       "      <td>Wet</td>\n",
       "      <td>2</td>\n",
       "      <td>4</td>\n",
       "      <td>0</td>\n",
       "      <td>0</td>\n",
       "      <td>...</td>\n",
       "      <td>0</td>\n",
       "      <td>0</td>\n",
       "      <td>0</td>\n",
       "      <td>0</td>\n",
       "      <td>0</td>\n",
       "      <td>0</td>\n",
       "      <td>0</td>\n",
       "      <td>0</td>\n",
       "      <td>0</td>\n",
       "      <td>1</td>\n",
       "    </tr>\n",
       "    <tr>\n",
       "      <th>4</th>\n",
       "      <td>2</td>\n",
       "      <td>Major Arterial</td>\n",
       "      <td>No Control</td>\n",
       "      <td>Clear</td>\n",
       "      <td>Dark</td>\n",
       "      <td>Wet</td>\n",
       "      <td>2</td>\n",
       "      <td>4</td>\n",
       "      <td>0</td>\n",
       "      <td>0</td>\n",
       "      <td>...</td>\n",
       "      <td>0</td>\n",
       "      <td>0</td>\n",
       "      <td>0</td>\n",
       "      <td>0</td>\n",
       "      <td>0</td>\n",
       "      <td>0</td>\n",
       "      <td>0</td>\n",
       "      <td>0</td>\n",
       "      <td>0</td>\n",
       "      <td>1</td>\n",
       "    </tr>\n",
       "  </tbody>\n",
       "</table>\n",
       "<p>5 rows × 86 columns</p>\n",
       "</div>"
      ],
      "text/plain": [
       "   HOUR      ROAD_CLASS    TRAFFCTL VISIBILITY LIGHT RDSFCOND  HOUR_Label  \\\n",
       "0     2  Major Arterial  No Control      Clear  Dark      Wet           2   \n",
       "1     2  Major Arterial  No Control      Clear  Dark      Wet           2   \n",
       "2     2  Major Arterial  No Control      Clear  Dark      Wet           2   \n",
       "3     2  Major Arterial  No Control      Clear  Dark      Wet           2   \n",
       "4     2  Major Arterial  No Control      Clear  Dark      Wet           2   \n",
       "\n",
       "   ROADCLASS_Label  TRAFFCTL_Label  VISIBILITY_Label  ...  Dry  Ice  \\\n",
       "0                4               0                 0  ...    0    0   \n",
       "1                4               0                 0  ...    0    0   \n",
       "2                4               0                 0  ...    0    0   \n",
       "3                4               0                 0  ...    0    0   \n",
       "4                4               0                 0  ...    0    0   \n",
       "\n",
       "   Loose Sand or Gravel  Loose Snow  Other  Packed Snow  Slush  \\\n",
       "0                     0           0      0            0      0   \n",
       "1                     0           0      0            0      0   \n",
       "2                     0           0      0            0      0   \n",
       "3                     0           0      0            0      0   \n",
       "4                     0           0      0            0      0   \n",
       "\n",
       "   Spilled liquid  Unknown  Wet  \n",
       "0               0        0    1  \n",
       "1               0        0    1  \n",
       "2               0        0    1  \n",
       "3               0        0    1  \n",
       "4               0        0    1  \n",
       "\n",
       "[5 rows x 86 columns]"
      ]
     },
<<<<<<< HEAD
     "execution_count": 21,
=======
     "execution_count": 11,
>>>>>>> bdb7213be4bf37e6bf71e31ffa935fc8c297fef9
     "metadata": {},
     "output_type": "execute_result"
    }
   ],
   "source": [
    "# combine all dataframe (features) into one df\n",
    "X_all_features = pd.concat([X, HOUR_onehot_features, ROADCLASS_onehot_features,TRAFFCTL_onehot_features,VISIBILITY_onehot_features,\n",
    "                           LIGHT_onehot_features,RDSFCOND_onehot_features],axis=1)\n",
    "X_all_features.head()"
   ]
  },
  {
   "cell_type": "code",
<<<<<<< HEAD
   "execution_count": 22,
=======
   "execution_count": 12,
>>>>>>> bdb7213be4bf37e6bf71e31ffa935fc8c297fef9
   "metadata": {},
   "outputs": [],
   "source": [
    "#X_all_features.to_csv(\"X_all_features.csv\")"
   ]
  },
  {
   "cell_type": "code",
<<<<<<< HEAD
   "execution_count": 23,
=======
   "execution_count": 13,
>>>>>>> bdb7213be4bf37e6bf71e31ffa935fc8c297fef9
   "metadata": {},
   "outputs": [
    {
     "data": {
      "text/plain": [
       "Index([                  'HOUR',             'ROAD_CLASS',\n",
       "                     'TRAFFCTL',             'VISIBILITY',\n",
       "                        'LIGHT',               'RDSFCOND',\n",
       "                   'HOUR_Label',        'ROADCLASS_Label',\n",
       "               'TRAFFCTL_Label',       'VISIBILITY_Label',\n",
       "                  'LIGHT_Label',         'RDSFCOND_Label',\n",
       "                              0,                        1,\n",
       "                              2,                        3,\n",
       "                              4,                        5,\n",
       "                              6,                        7,\n",
       "                              8,                        9,\n",
       "                             10,                       11,\n",
       "                             12,                       13,\n",
       "                             14,                       15,\n",
       "                             16,                       17,\n",
       "                             18,                       19,\n",
       "                             20,                       21,\n",
       "                             22,                       23,\n",
       "                    'Collector',             'Expressway',\n",
       "                      'Laneway',                  'Local',\n",
       "               'Major Arterial',    'Major Arterial Ramp',\n",
       "               'Minor Arterial',                  'Other',\n",
       "                      'Pending',                'Unknown',\n",
       "                   'No Control',           'PXO - No Ped',\n",
       "         'Pedestrian Crossover',         'Police Control',\n",
       "                 'School Guard',              'Stop Sign',\n",
       "         'Streetcar (Stop for)',     'Traffic Controller',\n",
       "                 'Traffic Gate',         'Traffic Signal',\n",
       "                      'Unknown',             'Yield Sign',\n",
       "                        'Clear',          'Drifting Snow',\n",
       "       'Fog, Mist, Smoke, Dust',          'Freezing Rain',\n",
       "                        'Other',                   'Rain',\n",
       "                         'Snow',            'Strong wind',\n",
       "                      'Unknown',                   'Dark',\n",
       "             'Dark, artificial',                   'Dawn',\n",
       "             'Dawn, artificial',               'Daylight',\n",
       "         'Daylight, artificial',                   'Dusk',\n",
       "             'Dusk, artificial',                  'Other',\n",
       "                          'Dry',                    'Ice',\n",
       "         'Loose Sand or Gravel',             'Loose Snow',\n",
       "                        'Other',            'Packed Snow',\n",
       "                        'Slush',         'Spilled liquid',\n",
       "                      'Unknown',                    'Wet'],\n",
       "      dtype='object')"
      ]
     },
<<<<<<< HEAD
     "execution_count": 23,
=======
     "execution_count": 13,
>>>>>>> bdb7213be4bf37e6bf71e31ffa935fc8c297fef9
     "metadata": {},
     "output_type": "execute_result"
    }
   ],
   "source": [
    "X_all_features.columns"
   ]
  },
  {
   "cell_type": "code",
<<<<<<< HEAD
   "execution_count": 24,
=======
   "execution_count": 14,
>>>>>>> bdb7213be4bf37e6bf71e31ffa935fc8c297fef9
   "metadata": {},
   "outputs": [],
   "source": [
    "#second data cleaning job\n",
    "# drop categorical columns(features) and leave its numeric features. Others and Unknown also dropped\n",
    "\n",
    "X_all_features_cleaned = X_all_features.drop([\"Other\",\"Unknown\",\"HOUR\",\"HOUR_Label\",\"ROAD_CLASS\",\"TRAFFCTL\",\"VISIBILITY\",\n",
    "                                              \"LIGHT\",\"RDSFCOND\",'ROADCLASS_Label', 'TRAFFCTL_Label',\n",
    "                                              'VISIBILITY_Label','LIGHT_Label','RDSFCOND_Label'],axis=1)"
   ]
  },
  {
   "cell_type": "code",
<<<<<<< HEAD
   "execution_count": 25,
=======
   "execution_count": 15,
>>>>>>> bdb7213be4bf37e6bf71e31ffa935fc8c297fef9
   "metadata": {},
   "outputs": [
    {
     "data": {
      "text/plain": [
       "Index([                       0,                        1,\n",
       "                              2,                        3,\n",
       "                              4,                        5,\n",
       "                              6,                        7,\n",
       "                              8,                        9,\n",
       "                             10,                       11,\n",
       "                             12,                       13,\n",
       "                             14,                       15,\n",
       "                             16,                       17,\n",
       "                             18,                       19,\n",
       "                             20,                       21,\n",
       "                             22,                       23,\n",
       "                    'Collector',             'Expressway',\n",
       "                      'Laneway',                  'Local',\n",
       "               'Major Arterial',    'Major Arterial Ramp',\n",
       "               'Minor Arterial',                'Pending',\n",
       "                   'No Control',           'PXO - No Ped',\n",
       "         'Pedestrian Crossover',         'Police Control',\n",
       "                 'School Guard',              'Stop Sign',\n",
       "         'Streetcar (Stop for)',     'Traffic Controller',\n",
       "                 'Traffic Gate',         'Traffic Signal',\n",
       "                   'Yield Sign',                  'Clear',\n",
       "                'Drifting Snow', 'Fog, Mist, Smoke, Dust',\n",
       "                'Freezing Rain',                   'Rain',\n",
       "                         'Snow',            'Strong wind',\n",
       "                         'Dark',       'Dark, artificial',\n",
       "                         'Dawn',       'Dawn, artificial',\n",
       "                     'Daylight',   'Daylight, artificial',\n",
       "                         'Dusk',       'Dusk, artificial',\n",
       "                          'Dry',                    'Ice',\n",
       "         'Loose Sand or Gravel',             'Loose Snow',\n",
       "                  'Packed Snow',                  'Slush',\n",
       "               'Spilled liquid',                    'Wet'],\n",
       "      dtype='object')"
      ]
     },
<<<<<<< HEAD
     "execution_count": 25,
=======
     "execution_count": 15,
>>>>>>> bdb7213be4bf37e6bf71e31ffa935fc8c297fef9
     "metadata": {},
     "output_type": "execute_result"
    }
   ],
   "source": [
    "X_all_features_cleaned.columns "
   ]
  },
  {
   "cell_type": "code",
<<<<<<< HEAD
   "execution_count": 26,
=======
   "execution_count": 16,
>>>>>>> bdb7213be4bf37e6bf71e31ffa935fc8c297fef9
   "metadata": {},
   "outputs": [
    {
     "name": "stdout",
     "output_type": "stream",
     "text": [
      "Number of features are : 66\n"
     ]
    }
   ],
   "source": [
    "print(f\"Number of features are : {len(X_all_features_cleaned.columns)}\") "
   ]
  },
  {
   "cell_type": "code",
<<<<<<< HEAD
   "execution_count": 27,
=======
   "execution_count": 17,
>>>>>>> bdb7213be4bf37e6bf71e31ffa935fc8c297fef9
   "metadata": {},
   "outputs": [],
   "source": [
    "# X_all_features_cleaned.to_csv(\"X_all_features_cleaned.csv\" ) "
   ]
  },
  {
   "cell_type": "code",
<<<<<<< HEAD
   "execution_count": 32,
=======
   "execution_count": 18,
>>>>>>> bdb7213be4bf37e6bf71e31ffa935fc8c297fef9
   "metadata": {},
   "outputs": [
    {
     "data": {
      "text/html": [
       "<div>\n",
       "<style scoped>\n",
       "    .dataframe tbody tr th:only-of-type {\n",
       "        vertical-align: middle;\n",
       "    }\n",
       "\n",
       "    .dataframe tbody tr th {\n",
       "        vertical-align: top;\n",
       "    }\n",
       "\n",
       "    .dataframe thead th {\n",
       "        text-align: right;\n",
       "    }\n",
       "</style>\n",
       "<table border=\"1\" class=\"dataframe\">\n",
       "  <thead>\n",
       "    <tr style=\"text-align: right;\">\n",
       "      <th></th>\n",
       "      <th>0</th>\n",
       "      <th>1</th>\n",
       "      <th>2</th>\n",
       "      <th>3</th>\n",
       "      <th>4</th>\n",
       "      <th>5</th>\n",
       "      <th>6</th>\n",
       "      <th>7</th>\n",
       "      <th>8</th>\n",
       "      <th>9</th>\n",
       "      <th>...</th>\n",
       "      <th>Dusk</th>\n",
       "      <th>Dusk, artificial</th>\n",
       "      <th>Dry</th>\n",
       "      <th>Ice</th>\n",
       "      <th>Loose Sand or Gravel</th>\n",
       "      <th>Loose Snow</th>\n",
       "      <th>Packed Snow</th>\n",
       "      <th>Slush</th>\n",
       "      <th>Spilled liquid</th>\n",
       "      <th>Wet</th>\n",
       "    </tr>\n",
       "  </thead>\n",
       "  <tbody>\n",
       "    <tr>\n",
       "      <th>0</th>\n",
       "      <td>0</td>\n",
       "      <td>0</td>\n",
       "      <td>1</td>\n",
       "      <td>0</td>\n",
       "      <td>0</td>\n",
       "      <td>0</td>\n",
       "      <td>0</td>\n",
       "      <td>0</td>\n",
       "      <td>0</td>\n",
       "      <td>0</td>\n",
       "      <td>...</td>\n",
       "      <td>0</td>\n",
       "      <td>0</td>\n",
       "      <td>0</td>\n",
       "      <td>0</td>\n",
       "      <td>0</td>\n",
       "      <td>0</td>\n",
       "      <td>0</td>\n",
       "      <td>0</td>\n",
       "      <td>0</td>\n",
       "      <td>1</td>\n",
       "    </tr>\n",
       "    <tr>\n",
       "      <th>1</th>\n",
       "      <td>0</td>\n",
       "      <td>0</td>\n",
       "      <td>1</td>\n",
       "      <td>0</td>\n",
       "      <td>0</td>\n",
       "      <td>0</td>\n",
       "      <td>0</td>\n",
       "      <td>0</td>\n",
       "      <td>0</td>\n",
       "      <td>0</td>\n",
       "      <td>...</td>\n",
       "      <td>0</td>\n",
       "      <td>0</td>\n",
       "      <td>0</td>\n",
       "      <td>0</td>\n",
       "      <td>0</td>\n",
       "      <td>0</td>\n",
       "      <td>0</td>\n",
       "      <td>0</td>\n",
       "      <td>0</td>\n",
       "      <td>1</td>\n",
       "    </tr>\n",
       "    <tr>\n",
       "      <th>2</th>\n",
       "      <td>0</td>\n",
       "      <td>0</td>\n",
       "      <td>1</td>\n",
       "      <td>0</td>\n",
       "      <td>0</td>\n",
       "      <td>0</td>\n",
       "      <td>0</td>\n",
       "      <td>0</td>\n",
       "      <td>0</td>\n",
       "      <td>0</td>\n",
       "      <td>...</td>\n",
       "      <td>0</td>\n",
       "      <td>0</td>\n",
       "      <td>0</td>\n",
       "      <td>0</td>\n",
       "      <td>0</td>\n",
       "      <td>0</td>\n",
       "      <td>0</td>\n",
       "      <td>0</td>\n",
       "      <td>0</td>\n",
       "      <td>1</td>\n",
       "    </tr>\n",
       "    <tr>\n",
       "      <th>3</th>\n",
       "      <td>0</td>\n",
       "      <td>0</td>\n",
       "      <td>1</td>\n",
       "      <td>0</td>\n",
       "      <td>0</td>\n",
       "      <td>0</td>\n",
       "      <td>0</td>\n",
       "      <td>0</td>\n",
       "      <td>0</td>\n",
       "      <td>0</td>\n",
       "      <td>...</td>\n",
       "      <td>0</td>\n",
       "      <td>0</td>\n",
       "      <td>0</td>\n",
       "      <td>0</td>\n",
       "      <td>0</td>\n",
       "      <td>0</td>\n",
       "      <td>0</td>\n",
       "      <td>0</td>\n",
       "      <td>0</td>\n",
       "      <td>1</td>\n",
       "    </tr>\n",
       "    <tr>\n",
       "      <th>4</th>\n",
       "      <td>0</td>\n",
       "      <td>0</td>\n",
       "      <td>1</td>\n",
       "      <td>0</td>\n",
       "      <td>0</td>\n",
       "      <td>0</td>\n",
       "      <td>0</td>\n",
       "      <td>0</td>\n",
       "      <td>0</td>\n",
       "      <td>0</td>\n",
       "      <td>...</td>\n",
       "      <td>0</td>\n",
       "      <td>0</td>\n",
       "      <td>0</td>\n",
       "      <td>0</td>\n",
       "      <td>0</td>\n",
       "      <td>0</td>\n",
       "      <td>0</td>\n",
       "      <td>0</td>\n",
       "      <td>0</td>\n",
       "      <td>1</td>\n",
       "    </tr>\n",
       "    <tr>\n",
       "      <th>...</th>\n",
       "      <td>...</td>\n",
       "      <td>...</td>\n",
       "      <td>...</td>\n",
       "      <td>...</td>\n",
       "      <td>...</td>\n",
       "      <td>...</td>\n",
       "      <td>...</td>\n",
       "      <td>...</td>\n",
       "      <td>...</td>\n",
       "      <td>...</td>\n",
       "      <td>...</td>\n",
       "      <td>...</td>\n",
       "      <td>...</td>\n",
       "      <td>...</td>\n",
       "      <td>...</td>\n",
       "      <td>...</td>\n",
       "      <td>...</td>\n",
       "      <td>...</td>\n",
       "      <td>...</td>\n",
       "      <td>...</td>\n",
       "      <td>...</td>\n",
       "    </tr>\n",
       "    <tr>\n",
       "      <th>16088</th>\n",
       "      <td>0</td>\n",
       "      <td>0</td>\n",
       "      <td>0</td>\n",
       "      <td>0</td>\n",
       "      <td>0</td>\n",
       "      <td>0</td>\n",
       "      <td>0</td>\n",
       "      <td>0</td>\n",
       "      <td>0</td>\n",
       "      <td>0</td>\n",
       "      <td>...</td>\n",
       "      <td>0</td>\n",
       "      <td>0</td>\n",
       "      <td>1</td>\n",
       "      <td>0</td>\n",
       "      <td>0</td>\n",
       "      <td>0</td>\n",
       "      <td>0</td>\n",
       "      <td>0</td>\n",
       "      <td>0</td>\n",
       "      <td>0</td>\n",
       "    </tr>\n",
       "    <tr>\n",
       "      <th>16089</th>\n",
       "      <td>0</td>\n",
       "      <td>0</td>\n",
       "      <td>0</td>\n",
       "      <td>0</td>\n",
       "      <td>0</td>\n",
       "      <td>0</td>\n",
       "      <td>0</td>\n",
       "      <td>0</td>\n",
       "      <td>0</td>\n",
       "      <td>0</td>\n",
       "      <td>...</td>\n",
       "      <td>0</td>\n",
       "      <td>0</td>\n",
       "      <td>1</td>\n",
       "      <td>0</td>\n",
       "      <td>0</td>\n",
       "      <td>0</td>\n",
       "      <td>0</td>\n",
       "      <td>0</td>\n",
       "      <td>0</td>\n",
       "      <td>0</td>\n",
       "    </tr>\n",
       "    <tr>\n",
       "      <th>16090</th>\n",
       "      <td>0</td>\n",
       "      <td>0</td>\n",
       "      <td>0</td>\n",
       "      <td>0</td>\n",
       "      <td>0</td>\n",
       "      <td>0</td>\n",
       "      <td>0</td>\n",
       "      <td>0</td>\n",
       "      <td>0</td>\n",
       "      <td>0</td>\n",
       "      <td>...</td>\n",
       "      <td>0</td>\n",
       "      <td>0</td>\n",
       "      <td>1</td>\n",
       "      <td>0</td>\n",
       "      <td>0</td>\n",
       "      <td>0</td>\n",
       "      <td>0</td>\n",
       "      <td>0</td>\n",
       "      <td>0</td>\n",
       "      <td>0</td>\n",
       "    </tr>\n",
       "    <tr>\n",
       "      <th>16091</th>\n",
       "      <td>0</td>\n",
       "      <td>0</td>\n",
       "      <td>0</td>\n",
       "      <td>0</td>\n",
       "      <td>0</td>\n",
       "      <td>0</td>\n",
       "      <td>0</td>\n",
       "      <td>0</td>\n",
       "      <td>0</td>\n",
       "      <td>0</td>\n",
       "      <td>...</td>\n",
       "      <td>0</td>\n",
       "      <td>0</td>\n",
       "      <td>1</td>\n",
       "      <td>0</td>\n",
       "      <td>0</td>\n",
       "      <td>0</td>\n",
       "      <td>0</td>\n",
       "      <td>0</td>\n",
       "      <td>0</td>\n",
       "      <td>0</td>\n",
       "    </tr>\n",
       "    <tr>\n",
       "      <th>16092</th>\n",
       "      <td>0</td>\n",
       "      <td>0</td>\n",
       "      <td>0</td>\n",
       "      <td>0</td>\n",
       "      <td>0</td>\n",
       "      <td>0</td>\n",
       "      <td>0</td>\n",
       "      <td>0</td>\n",
       "      <td>0</td>\n",
       "      <td>0</td>\n",
       "      <td>...</td>\n",
       "      <td>0</td>\n",
       "      <td>0</td>\n",
       "      <td>1</td>\n",
       "      <td>0</td>\n",
       "      <td>0</td>\n",
       "      <td>0</td>\n",
       "      <td>0</td>\n",
       "      <td>0</td>\n",
       "      <td>0</td>\n",
       "      <td>0</td>\n",
       "    </tr>\n",
       "  </tbody>\n",
       "</table>\n",
       "<p>16093 rows × 66 columns</p>\n",
       "</div>"
      ],
      "text/plain": [
       "       0  1  2  3  4  5  6  7  8  9  ...  Dusk  Dusk, artificial  Dry  Ice  \\\n",
       "0      0  0  1  0  0  0  0  0  0  0  ...     0                 0    0    0   \n",
       "1      0  0  1  0  0  0  0  0  0  0  ...     0                 0    0    0   \n",
       "2      0  0  1  0  0  0  0  0  0  0  ...     0                 0    0    0   \n",
       "3      0  0  1  0  0  0  0  0  0  0  ...     0                 0    0    0   \n",
       "4      0  0  1  0  0  0  0  0  0  0  ...     0                 0    0    0   \n",
       "...   .. .. .. .. .. .. .. .. .. ..  ...   ...               ...  ...  ...   \n",
       "16088  0  0  0  0  0  0  0  0  0  0  ...     0                 0    1    0   \n",
       "16089  0  0  0  0  0  0  0  0  0  0  ...     0                 0    1    0   \n",
       "16090  0  0  0  0  0  0  0  0  0  0  ...     0                 0    1    0   \n",
       "16091  0  0  0  0  0  0  0  0  0  0  ...     0                 0    1    0   \n",
       "16092  0  0  0  0  0  0  0  0  0  0  ...     0                 0    1    0   \n",
       "\n",
       "       Loose Sand or Gravel  Loose Snow  Packed Snow  Slush  Spilled liquid  \\\n",
       "0                         0           0            0      0               0   \n",
       "1                         0           0            0      0               0   \n",
       "2                         0           0            0      0               0   \n",
       "3                         0           0            0      0               0   \n",
       "4                         0           0            0      0               0   \n",
       "...                     ...         ...          ...    ...             ...   \n",
       "16088                     0           0            0      0               0   \n",
       "16089                     0           0            0      0               0   \n",
       "16090                     0           0            0      0               0   \n",
       "16091                     0           0            0      0               0   \n",
       "16092                     0           0            0      0               0   \n",
       "\n",
       "       Wet  \n",
       "0        1  \n",
       "1        1  \n",
       "2        1  \n",
       "3        1  \n",
       "4        1  \n",
       "...    ...  \n",
       "16088    0  \n",
       "16089    0  \n",
       "16090    0  \n",
       "16091    0  \n",
       "16092    0  \n",
       "\n",
       "[16093 rows x 66 columns]"
      ]
     },
<<<<<<< HEAD
     "execution_count": 32,
=======
     "execution_count": 18,
>>>>>>> bdb7213be4bf37e6bf71e31ffa935fc8c297fef9
     "metadata": {},
     "output_type": "execute_result"
    }
   ],
   "source": [
    "X_all_features_cleaned"
   ]
  },
  {
   "cell_type": "code",
<<<<<<< HEAD
   "execution_count": 33,
=======
   "execution_count": 19,
>>>>>>> bdb7213be4bf37e6bf71e31ffa935fc8c297fef9
   "metadata": {},
   "outputs": [],
   "source": [
    "X_features = X_all_features_cleaned"
   ]
  },
  {
   "cell_type": "code",
<<<<<<< HEAD
   "execution_count": 34,
=======
   "execution_count": 20,
>>>>>>> bdb7213be4bf37e6bf71e31ffa935fc8c297fef9
   "metadata": {},
   "outputs": [
    {
     "name": "stdout",
     "output_type": "stream",
     "text": [
      "(16093, 66)\n",
      "(16093,)\n"
     ]
    }
   ],
   "source": [
    "print(X_features.shape)\n",
    "print(y.shape)"
   ]
  },
  {
   "cell_type": "code",
<<<<<<< HEAD
   "execution_count": 35,
=======
   "execution_count": 21,
>>>>>>> bdb7213be4bf37e6bf71e31ffa935fc8c297fef9
   "metadata": {},
   "outputs": [
    {
     "data": {
      "text/plain": [
       "0        Non-Fatal Injury\n",
       "1        Non-Fatal Injury\n",
       "2        Non-Fatal Injury\n",
       "3        Non-Fatal Injury\n",
       "4        Non-Fatal Injury\n",
       "               ...       \n",
       "16088    Non-Fatal Injury\n",
       "16089    Non-Fatal Injury\n",
       "16090    Non-Fatal Injury\n",
       "16091    Non-Fatal Injury\n",
       "16092    Non-Fatal Injury\n",
       "Name: ACCLASS, Length: 16093, dtype: object"
      ]
     },
<<<<<<< HEAD
     "execution_count": 35,
=======
     "execution_count": 21,
>>>>>>> bdb7213be4bf37e6bf71e31ffa935fc8c297fef9
     "metadata": {},
     "output_type": "execute_result"
    }
   ],
   "source": [
    "y = df[\"ACCLASS\"]\n",
    "y"
   ]
  },
  {
   "cell_type": "markdown",
   "metadata": {},
   "source": [
    "#### MODELING : Neural Network"
   ]
  },
  {
   "cell_type": "code",
<<<<<<< HEAD
   "execution_count": 36,
=======
   "execution_count": 22,
>>>>>>> bdb7213be4bf37e6bf71e31ffa935fc8c297fef9
   "metadata": {},
   "outputs": [],
   "source": [
    "#Split our data into training and testing"
   ]
  },
  {
   "cell_type": "code",
<<<<<<< HEAD
   "execution_count": 37,
=======
   "execution_count": 23,
>>>>>>> bdb7213be4bf37e6bf71e31ffa935fc8c297fef9
   "metadata": {},
   "outputs": [],
   "source": [
    "from sklearn.model_selection import train_test_split\n",
    "\n",
    "X_train, X_test, y_train, y_test = train_test_split(X_features, y, random_state=1)"
   ]
  },
  {
   "cell_type": "code",
<<<<<<< HEAD
   "execution_count": 38,
=======
   "execution_count": 24,
>>>>>>> bdb7213be4bf37e6bf71e31ffa935fc8c297fef9
   "metadata": {},
   "outputs": [],
   "source": [
    "from sklearn.preprocessing import LabelEncoder, MinMaxScaler\n",
    "from tensorflow.keras.utils import to_categorical\n",
    "# Label-encode data set\n",
    "label_encoder = LabelEncoder()\n",
    "label_encoder.fit(y_train)\n",
    "encoded_y_train = label_encoder.transform(y_train)\n",
    "encoded_y_test = label_encoder.transform(y_test)"
   ]
  },
  {
   "cell_type": "code",
<<<<<<< HEAD
   "execution_count": 39,
=======
   "execution_count": 25,
>>>>>>> bdb7213be4bf37e6bf71e31ffa935fc8c297fef9
   "metadata": {},
   "outputs": [],
   "source": [
    "# Convert encoded labels to one-hot-encoding\n",
    "y_train_categorical = to_categorical(encoded_y_train)\n",
    "y_test_categorical = to_categorical(encoded_y_test)"
   ]
  },
  {
   "cell_type": "markdown",
   "metadata": {},
   "source": [
    "############## Neural Network model: Sequential #############"
   ]
  },
  {
   "cell_type": "code",
<<<<<<< HEAD
   "execution_count": 40,
=======
   "execution_count": 26,
>>>>>>> bdb7213be4bf37e6bf71e31ffa935fc8c297fef9
   "metadata": {
    "scrolled": true
   },
   "outputs": [],
   "source": [
    "#create a deep neural network with 66 inputs, 6 hidden nodes, and 2 outputs\n",
    "from tensorflow.keras.models import Sequential\n",
    "from tensorflow.keras.layers import Dense\n",
    "\n",
    "Fatality_classifier = Sequential()\n",
    "Fatality_classifier.add(Dense(units=6, activation='relu', input_dim=66))\n",
    "Fatality_classifier.add(Dense(units=6, activation='relu'))\n",
    "Fatality_classifier.add(Dense(units=6, activation='relu'))\n",
    "Fatality_classifier.add(Dense(units=6, activation='relu'))\n",
    "Fatality_classifier.add(Dense(units=2, activation='softmax'))"
   ]
  },
  {
   "cell_type": "code",
<<<<<<< HEAD
   "execution_count": 41,
=======
   "execution_count": 27,
>>>>>>> bdb7213be4bf37e6bf71e31ffa935fc8c297fef9
   "metadata": {},
   "outputs": [
    {
     "name": "stdout",
     "output_type": "stream",
     "text": [
      "Model: \"sequential\"\n",
      "_________________________________________________________________\n",
      "Layer (type)                 Output Shape              Param #   \n",
      "=================================================================\n",
      "dense (Dense)                (None, 6)                 402       \n",
      "_________________________________________________________________\n",
      "dense_1 (Dense)              (None, 6)                 42        \n",
      "_________________________________________________________________\n",
      "dense_2 (Dense)              (None, 6)                 42        \n",
      "_________________________________________________________________\n",
      "dense_3 (Dense)              (None, 6)                 42        \n",
      "_________________________________________________________________\n",
      "dense_4 (Dense)              (None, 2)                 14        \n",
      "=================================================================\n",
      "Total params: 542\n",
      "Trainable params: 542\n",
      "Non-trainable params: 0\n",
      "_________________________________________________________________\n"
     ]
    }
   ],
   "source": [
    "# model summary\n",
    "Fatality_classifier.summary()"
   ]
  },
  {
   "cell_type": "code",
<<<<<<< HEAD
   "execution_count": 42,
=======
   "execution_count": 28,
>>>>>>> bdb7213be4bf37e6bf71e31ffa935fc8c297fef9
   "metadata": {},
   "outputs": [],
   "source": [
    "#Complie the model\n",
    "Fatality_classifier.compile(optimizer='adam',\n",
    "              loss='categorical_crossentropy',\n",
    "              metrics=['accuracy'])"
   ]
  },
  {
   "cell_type": "code",
<<<<<<< HEAD
   "execution_count": 43,
=======
   "execution_count": 29,
>>>>>>> bdb7213be4bf37e6bf71e31ffa935fc8c297fef9
   "metadata": {},
   "outputs": [
    {
     "name": "stdout",
     "output_type": "stream",
     "text": [
      "Epoch 1/100\n",
<<<<<<< HEAD
      "12069/12069 [==============================] - 1s 99us/sample - loss: 0.4919 - acc: 0.8259\n",
      "Epoch 2/100\n",
      "12069/12069 [==============================] - 1s 84us/sample - loss: 0.3972 - acc: 0.8620\n",
      "Epoch 3/100\n",
      "12069/12069 [==============================] - 1s 80us/sample - loss: 0.3937 - acc: 0.8620\n",
      "Epoch 4/100\n",
      "12069/12069 [==============================] - 1s 82us/sample - loss: 0.3908 - acc: 0.8620\n",
      "Epoch 5/100\n",
      "12069/12069 [==============================] - 1s 81us/sample - loss: 0.3891 - acc: 0.8620\n",
      "Epoch 6/100\n",
      "12069/12069 [==============================] - 1s 80us/sample - loss: 0.3868 - acc: 0.8620\n",
      "Epoch 7/100\n",
      "12069/12069 [==============================] - 1s 90us/sample - loss: 0.3847 - acc: 0.8620\n",
      "Epoch 8/100\n",
      "12069/12069 [==============================] - 1s 83us/sample - loss: 0.3827 - acc: 0.8620\n",
      "Epoch 9/100\n",
      "12069/12069 [==============================] - 1s 94us/sample - loss: 0.3804 - acc: 0.8620\n",
      "Epoch 10/100\n",
      "12069/12069 [==============================] - 1s 89us/sample - loss: 0.3785 - acc: 0.8620\n",
      "Epoch 11/100\n",
      "12069/12069 [==============================] - 1s 86us/sample - loss: 0.3770 - acc: 0.8620\n",
      "Epoch 12/100\n",
      "12069/12069 [==============================] - 1s 78us/sample - loss: 0.3754 - acc: 0.86200s - loss: 0.\n",
      "Epoch 13/100\n",
      "12069/12069 [==============================] - 1s 78us/sample - loss: 0.3746 - acc: 0.8620\n",
      "Epoch 14/100\n",
      "12069/12069 [==============================] - 1s 80us/sample - loss: 0.3729 - acc: 0.86200s - loss: 0.3731 - ac\n",
      "Epoch 15/100\n",
      "12069/12069 [==============================] - 1s 78us/sample - loss: 0.3716 - acc: 0.8620\n",
      "Epoch 16/100\n",
      "12069/12069 [==============================] - 1s 74us/sample - loss: 0.3716 - acc: 0.8621\n",
      "Epoch 17/100\n",
      "12069/12069 [==============================] - 1s 79us/sample - loss: 0.3701 - acc: 0.8625\n",
      "Epoch 18/100\n",
      "12069/12069 [==============================] - 1s 78us/sample - loss: 0.3693 - acc: 0.8620\n",
      "Epoch 19/100\n",
      "12069/12069 [==============================] - 1s 81us/sample - loss: 0.3682 - acc: 0.8621\n",
      "Epoch 20/100\n",
      "12069/12069 [==============================] - 1s 77us/sample - loss: 0.3679 - acc: 0.8625\n",
      "Epoch 21/100\n",
      "12069/12069 [==============================] - 1s 80us/sample - loss: 0.3672 - acc: 0.8630\n",
      "Epoch 22/100\n",
      "12069/12069 [==============================] - 1s 78us/sample - loss: 0.3661 - acc: 0.8627\n",
      "Epoch 23/100\n",
      "12069/12069 [==============================] - 1s 80us/sample - loss: 0.3658 - acc: 0.8635\n",
      "Epoch 24/100\n",
      "12069/12069 [==============================] - 1s 79us/sample - loss: 0.3654 - acc: 0.8635\n",
      "Epoch 25/100\n",
      "12069/12069 [==============================] - 1s 79us/sample - loss: 0.3646 - acc: 0.8637\n",
      "Epoch 26/100\n",
      "12069/12069 [==============================] - 1s 79us/sample - loss: 0.3632 - acc: 0.8634\n",
      "Epoch 27/100\n",
      "12069/12069 [==============================] - 1s 79us/sample - loss: 0.3638 - acc: 0.8641\n",
      "Epoch 28/100\n",
      "12069/12069 [==============================] - 1s 77us/sample - loss: 0.3627 - acc: 0.8643\n",
      "Epoch 29/100\n",
      "12069/12069 [==============================] - 1s 79us/sample - loss: 0.3621 - acc: 0.8658\n",
      "Epoch 30/100\n",
      "12069/12069 [==============================] - 1s 81us/sample - loss: 0.3617 - acc: 0.8649\n",
      "Epoch 31/100\n",
      "12069/12069 [==============================] - 1s 79us/sample - loss: 0.3622 - acc: 0.8658\n",
      "Epoch 32/100\n",
      "12069/12069 [==============================] - 1s 80us/sample - loss: 0.3605 - acc: 0.8656\n",
      "Epoch 33/100\n",
      "12069/12069 [==============================] - 1s 85us/sample - loss: 0.3604 - acc: 0.8651\n",
      "Epoch 34/100\n",
      "12069/12069 [==============================] - 1s 89us/sample - loss: 0.3600 - acc: 0.8658\n",
      "Epoch 35/100\n",
      "12069/12069 [==============================] - 1s 79us/sample - loss: 0.3594 - acc: 0.8663\n",
      "Epoch 36/100\n",
      "12069/12069 [==============================] - 1s 86us/sample - loss: 0.3596 - acc: 0.8662\n",
      "Epoch 37/100\n",
      "12069/12069 [==============================] - 1s 82us/sample - loss: 0.3588 - acc: 0.8668\n",
      "Epoch 38/100\n",
      "12069/12069 [==============================] - 1s 77us/sample - loss: 0.3585 - acc: 0.8662\n",
      "Epoch 39/100\n",
      "12069/12069 [==============================] - 1s 78us/sample - loss: 0.3582 - acc: 0.8666\n",
      "Epoch 40/100\n",
      "12069/12069 [==============================] - 1s 79us/sample - loss: 0.3584 - acc: 0.8658\n",
      "Epoch 41/100\n",
      "12069/12069 [==============================] - 1s 77us/sample - loss: 0.3584 - acc: 0.8668\n",
      "Epoch 42/100\n",
      "12069/12069 [==============================] - 1s 78us/sample - loss: 0.3576 - acc: 0.8667\n",
      "Epoch 43/100\n",
      "12069/12069 [==============================] - 1s 77us/sample - loss: 0.3578 - acc: 0.8659\n",
      "Epoch 44/100\n",
      "12069/12069 [==============================] - 1s 78us/sample - loss: 0.3577 - acc: 0.8662\n",
      "Epoch 45/100\n",
      "12069/12069 [==============================] - 1s 75us/sample - loss: 0.3567 - acc: 0.8669\n",
      "Epoch 46/100\n",
      "12069/12069 [==============================] - 1s 75us/sample - loss: 0.3561 - acc: 0.8675\n",
      "Epoch 47/100\n",
      "12069/12069 [==============================] - 1s 76us/sample - loss: 0.3566 - acc: 0.8670\n",
      "Epoch 48/100\n",
      "12069/12069 [==============================] - 1s 75us/sample - loss: 0.3565 - acc: 0.8671\n",
      "Epoch 49/100\n",
      "12069/12069 [==============================] - 1s 74us/sample - loss: 0.3560 - acc: 0.8668\n",
      "Epoch 50/100\n",
      "12069/12069 [==============================] - 1s 75us/sample - loss: 0.3552 - acc: 0.8673\n",
      "Epoch 51/100\n",
      "12069/12069 [==============================] - 1s 74us/sample - loss: 0.3554 - acc: 0.8673\n",
      "Epoch 52/100\n",
      "12069/12069 [==============================] - 1s 74us/sample - loss: 0.3554 - acc: 0.8681\n",
      "Epoch 53/100\n",
      "12069/12069 [==============================] - 1s 75us/sample - loss: 0.3552 - acc: 0.8680\n",
      "Epoch 54/100\n",
      "12069/12069 [==============================] - 1s 75us/sample - loss: 0.3550 - acc: 0.8676\n",
      "Epoch 55/100\n",
      "12069/12069 [==============================] - 1s 76us/sample - loss: 0.3548 - acc: 0.8682\n",
      "Epoch 56/100\n",
      "12069/12069 [==============================] - 1s 74us/sample - loss: 0.3547 - acc: 0.8684\n",
      "Epoch 57/100\n",
      "12069/12069 [==============================] - 1s 80us/sample - loss: 0.3546 - acc: 0.8673\n",
      "Epoch 58/100\n",
      "12069/12069 [==============================] - 1s 81us/sample - loss: 0.3537 - acc: 0.8683\n",
      "Epoch 59/100\n",
      "12069/12069 [==============================] - 1s 77us/sample - loss: 0.3553 - acc: 0.8667\n",
      "Epoch 60/100\n",
      "12069/12069 [==============================] - 1s 77us/sample - loss: 0.3541 - acc: 0.8675\n",
      "Epoch 61/100\n",
      "12069/12069 [==============================] - 1s 76us/sample - loss: 0.3531 - acc: 0.8685\n",
      "Epoch 62/100\n",
      "12069/12069 [==============================] - 1s 76us/sample - loss: 0.3540 - acc: 0.8687\n",
      "Epoch 63/100\n",
      "12069/12069 [==============================] - 1s 76us/sample - loss: 0.3536 - acc: 0.8690\n",
      "Epoch 64/100\n",
      "12069/12069 [==============================] - 1s 79us/sample - loss: 0.3528 - acc: 0.8683\n",
      "Epoch 65/100\n",
      "12069/12069 [==============================] - 1s 81us/sample - loss: 0.3538 - acc: 0.8690\n",
      "Epoch 66/100\n",
      "12069/12069 [==============================] - 1s 82us/sample - loss: 0.3526 - acc: 0.8685\n",
      "Epoch 67/100\n",
      "12069/12069 [==============================] - 1s 74us/sample - loss: 0.3529 - acc: 0.8678\n",
      "Epoch 68/100\n",
      "12069/12069 [==============================] - 1s 74us/sample - loss: 0.3524 - acc: 0.8689\n",
      "Epoch 69/100\n",
      "12069/12069 [==============================] - 1s 74us/sample - loss: 0.3526 - acc: 0.8686\n",
      "Epoch 70/100\n",
      "12069/12069 [==============================] - 1s 75us/sample - loss: 0.3516 - acc: 0.8688\n",
      "Epoch 71/100\n",
      "12069/12069 [==============================] - 1s 75us/sample - loss: 0.3517 - acc: 0.8697\n",
      "Epoch 72/100\n",
      "12069/12069 [==============================] - 1s 76us/sample - loss: 0.3527 - acc: 0.8695\n",
      "Epoch 73/100\n",
      "12069/12069 [==============================] - 1s 77us/sample - loss: 0.3520 - acc: 0.8699\n",
      "Epoch 74/100\n",
      "12069/12069 [==============================] - 1s 76us/sample - loss: 0.3519 - acc: 0.8699\n",
      "Epoch 75/100\n",
      "12069/12069 [==============================] - 1s 75us/sample - loss: 0.3521 - acc: 0.8698\n",
      "Epoch 76/100\n",
      "12069/12069 [==============================] - 1s 75us/sample - loss: 0.3512 - acc: 0.8695\n",
      "Epoch 77/100\n",
      "12069/12069 [==============================] - 1s 79us/sample - loss: 0.3510 - acc: 0.8694\n",
      "Epoch 78/100\n",
      "12069/12069 [==============================] - 1s 75us/sample - loss: 0.3511 - acc: 0.8709\n",
=======
      "378/378 [==============================] - 0s 766us/step - loss: 0.4239 - accuracy: 0.8621\n",
      "Epoch 2/100\n",
      "378/378 [==============================] - 0s 751us/step - loss: 0.3953 - accuracy: 0.8620\n",
      "Epoch 3/100\n",
      "378/378 [==============================] - 0s 714us/step - loss: 0.3919 - accuracy: 0.8620\n",
      "Epoch 4/100\n",
      "378/378 [==============================] - 0s 712us/step - loss: 0.3884 - accuracy: 0.8620\n",
      "Epoch 5/100\n",
      "378/378 [==============================] - 0s 712us/step - loss: 0.3863 - accuracy: 0.8620\n",
      "Epoch 6/100\n",
      "378/378 [==============================] - 0s 707us/step - loss: 0.3839 - accuracy: 0.8620\n",
      "Epoch 7/100\n",
      "378/378 [==============================] - 0s 714us/step - loss: 0.3823 - accuracy: 0.8620\n",
      "Epoch 8/100\n",
      "378/378 [==============================] - 0s 839us/step - loss: 0.3799 - accuracy: 0.8620\n",
      "Epoch 9/100\n",
      "378/378 [==============================] - 0s 992us/step - loss: 0.3778 - accuracy: 0.8621\n",
      "Epoch 10/100\n",
      "378/378 [==============================] - 0s 737us/step - loss: 0.3765 - accuracy: 0.8623\n",
      "Epoch 11/100\n",
      "378/378 [==============================] - 0s 910us/step - loss: 0.3743 - accuracy: 0.8624\n",
      "Epoch 12/100\n",
      "378/378 [==============================] - 0s 813us/step - loss: 0.3731 - accuracy: 0.8620\n",
      "Epoch 13/100\n",
      "378/378 [==============================] - 0s 756us/step - loss: 0.3710 - accuracy: 0.8628\n",
      "Epoch 14/100\n",
      "378/378 [==============================] - 0s 940us/step - loss: 0.3703 - accuracy: 0.8626\n",
      "Epoch 15/100\n",
      "378/378 [==============================] - 0s 753us/step - loss: 0.3697 - accuracy: 0.8630\n",
      "Epoch 16/100\n",
      "378/378 [==============================] - 0s 749us/step - loss: 0.3676 - accuracy: 0.8637\n",
      "Epoch 17/100\n",
      "378/378 [==============================] - 0s 744us/step - loss: 0.3665 - accuracy: 0.8642\n",
      "Epoch 18/100\n",
      "378/378 [==============================] - 0s 738us/step - loss: 0.3660 - accuracy: 0.8644\n",
      "Epoch 19/100\n",
      "378/378 [==============================] - 0s 853us/step - loss: 0.3650 - accuracy: 0.8648\n",
      "Epoch 20/100\n",
      "378/378 [==============================] - 0s 980us/step - loss: 0.3638 - accuracy: 0.8654\n",
      "Epoch 21/100\n",
      "378/378 [==============================] - 0s 730us/step - loss: 0.3640 - accuracy: 0.8650\n",
      "Epoch 22/100\n",
      "378/378 [==============================] - 0s 747us/step - loss: 0.3623 - accuracy: 0.8665\n",
      "Epoch 23/100\n",
      "378/378 [==============================] - 0s 748us/step - loss: 0.3616 - accuracy: 0.8662\n",
      "Epoch 24/100\n",
      "378/378 [==============================] - 0s 752us/step - loss: 0.3612 - accuracy: 0.8664\n",
      "Epoch 25/100\n",
      "378/378 [==============================] - 0s 724us/step - loss: 0.3599 - accuracy: 0.8664\n",
      "Epoch 26/100\n",
      "378/378 [==============================] - 0s 826us/step - loss: 0.3599 - accuracy: 0.8665\n",
      "Epoch 27/100\n",
      "378/378 [==============================] - 0s 771us/step - loss: 0.3594 - accuracy: 0.8670\n",
      "Epoch 28/100\n",
      "378/378 [==============================] - 0s 760us/step - loss: 0.3588 - accuracy: 0.8675\n",
      "Epoch 29/100\n",
      "378/378 [==============================] - 0s 933us/step - loss: 0.3582 - accuracy: 0.8676\n",
      "Epoch 30/100\n",
      "378/378 [==============================] - 0s 1ms/step - loss: 0.3578 - accuracy: 0.8677\n",
      "Epoch 31/100\n",
      "378/378 [==============================] - 0s 914us/step - loss: 0.3573 - accuracy: 0.8678\n",
      "Epoch 32/100\n",
      "378/378 [==============================] - 0s 745us/step - loss: 0.3571 - accuracy: 0.8673\n",
      "Epoch 33/100\n",
      "378/378 [==============================] - 0s 762us/step - loss: 0.3571 - accuracy: 0.8683\n",
      "Epoch 34/100\n",
      "378/378 [==============================] - 0s 768us/step - loss: 0.3565 - accuracy: 0.8675\n",
      "Epoch 35/100\n",
      "378/378 [==============================] - 0s 748us/step - loss: 0.3556 - accuracy: 0.8679\n",
      "Epoch 36/100\n",
      "378/378 [==============================] - 0s 741us/step - loss: 0.3562 - accuracy: 0.8678\n",
      "Epoch 37/100\n",
      "378/378 [==============================] - 0s 750us/step - loss: 0.3552 - accuracy: 0.8670\n",
      "Epoch 38/100\n",
      "378/378 [==============================] - 0s 1ms/step - loss: 0.3554 - accuracy: 0.8687\n",
      "Epoch 39/100\n",
      "378/378 [==============================] - 0s 735us/step - loss: 0.3543 - accuracy: 0.8682\n",
      "Epoch 40/100\n",
      "378/378 [==============================] - 0s 757us/step - loss: 0.3546 - accuracy: 0.8690\n",
      "Epoch 41/100\n",
      "378/378 [==============================] - 0s 779us/step - loss: 0.3539 - accuracy: 0.8688\n",
      "Epoch 42/100\n",
      "378/378 [==============================] - 0s 737us/step - loss: 0.3538 - accuracy: 0.8685\n",
      "Epoch 43/100\n",
      "378/378 [==============================] - 0s 749us/step - loss: 0.3534 - accuracy: 0.8692\n",
      "Epoch 44/100\n",
      "378/378 [==============================] - 0s 752us/step - loss: 0.3544 - accuracy: 0.8682\n",
      "Epoch 45/100\n",
      "378/378 [==============================] - 0s 755us/step - loss: 0.3537 - accuracy: 0.8691\n",
      "Epoch 46/100\n",
      "378/378 [==============================] - 0s 731us/step - loss: 0.3530 - accuracy: 0.8684\n",
      "Epoch 47/100\n",
      "378/378 [==============================] - 0s 756us/step - loss: 0.3538 - accuracy: 0.8684\n",
      "Epoch 48/100\n",
      "378/378 [==============================] - 0s 728us/step - loss: 0.3534 - accuracy: 0.8694\n",
      "Epoch 49/100\n",
      "378/378 [==============================] - 0s 763us/step - loss: 0.3527 - accuracy: 0.8700\n",
      "Epoch 50/100\n",
      "378/378 [==============================] - 0s 746us/step - loss: 0.3524 - accuracy: 0.8697\n",
      "Epoch 51/100\n",
      "378/378 [==============================] - 0s 766us/step - loss: 0.3515 - accuracy: 0.8688\n",
      "Epoch 52/100\n",
      "378/378 [==============================] - 0s 769us/step - loss: 0.3520 - accuracy: 0.8703\n",
      "Epoch 53/100\n",
      "378/378 [==============================] - 0s 737us/step - loss: 0.3521 - accuracy: 0.8684\n",
      "Epoch 54/100\n",
      "378/378 [==============================] - 0s 792us/step - loss: 0.3514 - accuracy: 0.8693\n",
      "Epoch 55/100\n",
      "378/378 [==============================] - 0s 751us/step - loss: 0.3511 - accuracy: 0.8692\n",
      "Epoch 56/100\n",
      "378/378 [==============================] - 0s 810us/step - loss: 0.3509 - accuracy: 0.8700\n",
      "Epoch 57/100\n",
      "378/378 [==============================] - 0s 773us/step - loss: 0.3507 - accuracy: 0.8700\n",
      "Epoch 58/100\n",
      "378/378 [==============================] - 0s 956us/step - loss: 0.3501 - accuracy: 0.8694\n",
      "Epoch 59/100\n",
      "378/378 [==============================] - 0s 762us/step - loss: 0.3507 - accuracy: 0.8706\n",
      "Epoch 60/100\n",
      "378/378 [==============================] - 0s 856us/step - loss: 0.3497 - accuracy: 0.8704\n",
      "Epoch 61/100\n",
      "378/378 [==============================] - 0s 955us/step - loss: 0.3506 - accuracy: 0.8703\n",
      "Epoch 62/100\n",
      "378/378 [==============================] - 0s 758us/step - loss: 0.3506 - accuracy: 0.8694\n",
      "Epoch 63/100\n",
      "378/378 [==============================] - 0s 827us/step - loss: 0.3502 - accuracy: 0.8697\n",
      "Epoch 64/100\n",
      "378/378 [==============================] - 0s 834us/step - loss: 0.3502 - accuracy: 0.8687\n",
      "Epoch 65/100\n",
      "378/378 [==============================] - 0s 779us/step - loss: 0.3497 - accuracy: 0.8713\n",
      "Epoch 66/100\n",
      "378/378 [==============================] - 0s 856us/step - loss: 0.3498 - accuracy: 0.8711\n",
      "Epoch 67/100\n",
      "378/378 [==============================] - 0s 757us/step - loss: 0.3497 - accuracy: 0.8703\n",
      "Epoch 68/100\n",
      "378/378 [==============================] - 0s 759us/step - loss: 0.3490 - accuracy: 0.8715\n",
      "Epoch 69/100\n",
      "378/378 [==============================] - 0s 739us/step - loss: 0.3496 - accuracy: 0.8700\n",
      "Epoch 70/100\n",
      "378/378 [==============================] - 0s 762us/step - loss: 0.3491 - accuracy: 0.8710\n",
      "Epoch 71/100\n",
      "378/378 [==============================] - 0s 744us/step - loss: 0.3483 - accuracy: 0.8715\n",
      "Epoch 72/100\n",
      "378/378 [==============================] - 0s 775us/step - loss: 0.3486 - accuracy: 0.8718\n",
      "Epoch 73/100\n",
      "378/378 [==============================] - 0s 825us/step - loss: 0.3486 - accuracy: 0.8715\n",
      "Epoch 74/100\n",
      "378/378 [==============================] - 0s 819us/step - loss: 0.3483 - accuracy: 0.8716\n",
      "Epoch 75/100\n",
      "378/378 [==============================] - 0s 781us/step - loss: 0.3479 - accuracy: 0.8712\n",
      "Epoch 76/100\n",
      "378/378 [==============================] - 0s 724us/step - loss: 0.3476 - accuracy: 0.8713\n",
      "Epoch 77/100\n",
      "378/378 [==============================] - 0s 729us/step - loss: 0.3479 - accuracy: 0.8716\n",
      "Epoch 78/100\n",
      "378/378 [==============================] - 0s 735us/step - loss: 0.3481 - accuracy: 0.8715\n",
>>>>>>> bdb7213be4bf37e6bf71e31ffa935fc8c297fef9
      "Epoch 79/100\n"
     ]
    },
    {
     "name": "stdout",
     "output_type": "stream",
     "text": [
<<<<<<< HEAD
      "12069/12069 [==============================] - 1s 77us/sample - loss: 0.3520 - acc: 0.8697\n",
      "Epoch 80/100\n",
      "12069/12069 [==============================] - 1s 84us/sample - loss: 0.3511 - acc: 0.8706\n",
      "Epoch 81/100\n",
      "12069/12069 [==============================] - 1s 80us/sample - loss: 0.3506 - acc: 0.8695\n",
      "Epoch 82/100\n",
      "12069/12069 [==============================] - 1s 85us/sample - loss: 0.3502 - acc: 0.8707\n",
      "Epoch 83/100\n",
      "12069/12069 [==============================] - 1s 76us/sample - loss: 0.3508 - acc: 0.87070s - loss: 0.36\n",
      "Epoch 84/100\n",
      "12069/12069 [==============================] - 1s 81us/sample - loss: 0.3506 - acc: 0.8709\n",
      "Epoch 85/100\n",
      "12069/12069 [==============================] - 1s 74us/sample - loss: 0.3506 - acc: 0.8704\n",
      "Epoch 86/100\n",
      "12069/12069 [==============================] - 1s 76us/sample - loss: 0.3501 - acc: 0.8703\n",
      "Epoch 87/100\n",
      "12069/12069 [==============================] - 1s 75us/sample - loss: 0.3504 - acc: 0.8708\n",
      "Epoch 88/100\n",
      "12069/12069 [==============================] - 1s 74us/sample - loss: 0.3497 - acc: 0.8707\n",
      "Epoch 89/100\n",
      "12069/12069 [==============================] - 1s 79us/sample - loss: 0.3499 - acc: 0.8712\n",
      "Epoch 90/100\n",
      "12069/12069 [==============================] - 1s 78us/sample - loss: 0.3504 - acc: 0.8710\n",
      "Epoch 91/100\n",
      "12069/12069 [==============================] - 1s 73us/sample - loss: 0.3497 - acc: 0.8707\n",
      "Epoch 92/100\n",
      "12069/12069 [==============================] - 1s 74us/sample - loss: 0.3494 - acc: 0.8709\n",
      "Epoch 93/100\n",
      "12069/12069 [==============================] - 1s 73us/sample - loss: 0.3491 - acc: 0.8717\n",
      "Epoch 94/100\n",
      "12069/12069 [==============================] - 1s 73us/sample - loss: 0.3494 - acc: 0.8707\n",
      "Epoch 95/100\n",
      "12069/12069 [==============================] - 1s 78us/sample - loss: 0.3487 - acc: 0.8712\n",
      "Epoch 96/100\n",
      "12069/12069 [==============================] - 1s 75us/sample - loss: 0.3496 - acc: 0.8712\n",
      "Epoch 97/100\n",
      "12069/12069 [==============================] - 1s 75us/sample - loss: 0.3489 - acc: 0.8712\n",
      "Epoch 98/100\n",
      "12069/12069 [==============================] - 1s 74us/sample - loss: 0.3488 - acc: 0.8710\n",
      "Epoch 99/100\n",
      "12069/12069 [==============================] - 1s 75us/sample - loss: 0.3496 - acc: 0.8722\n",
      "Epoch 100/100\n",
      "12069/12069 [==============================] - 1s 75us/sample - loss: 0.3482 - acc: 0.8714\n"
=======
      "378/378 [==============================] - 0s 737us/step - loss: 0.3472 - accuracy: 0.8712\n",
      "Epoch 80/100\n",
      "378/378 [==============================] - 0s 766us/step - loss: 0.3475 - accuracy: 0.8722\n",
      "Epoch 81/100\n",
      "378/378 [==============================] - 0s 696us/step - loss: 0.3471 - accuracy: 0.8718\n",
      "Epoch 82/100\n",
      "378/378 [==============================] - 0s 708us/step - loss: 0.3465 - accuracy: 0.8722\n",
      "Epoch 83/100\n",
      "378/378 [==============================] - 0s 703us/step - loss: 0.3457 - accuracy: 0.8722\n",
      "Epoch 84/100\n",
      "378/378 [==============================] - 0s 693us/step - loss: 0.3470 - accuracy: 0.8717\n",
      "Epoch 85/100\n",
      "378/378 [==============================] - 0s 710us/step - loss: 0.3459 - accuracy: 0.8727\n",
      "Epoch 86/100\n",
      "378/378 [==============================] - 0s 703us/step - loss: 0.3459 - accuracy: 0.8721\n",
      "Epoch 87/100\n",
      "378/378 [==============================] - 0s 702us/step - loss: 0.3466 - accuracy: 0.8721\n",
      "Epoch 88/100\n",
      "378/378 [==============================] - 0s 703us/step - loss: 0.3461 - accuracy: 0.8724\n",
      "Epoch 89/100\n",
      "378/378 [==============================] - 0s 712us/step - loss: 0.3457 - accuracy: 0.8727\n",
      "Epoch 90/100\n",
      "378/378 [==============================] - 0s 717us/step - loss: 0.3455 - accuracy: 0.8725\n",
      "Epoch 91/100\n",
      "378/378 [==============================] - 0s 713us/step - loss: 0.3449 - accuracy: 0.8712\n",
      "Epoch 92/100\n",
      "378/378 [==============================] - 0s 717us/step - loss: 0.3464 - accuracy: 0.8720\n",
      "Epoch 93/100\n",
      "378/378 [==============================] - 0s 710us/step - loss: 0.3447 - accuracy: 0.8733\n",
      "Epoch 94/100\n",
      "378/378 [==============================] - 0s 716us/step - loss: 0.3447 - accuracy: 0.8722\n",
      "Epoch 95/100\n",
      "378/378 [==============================] - 0s 728us/step - loss: 0.3447 - accuracy: 0.8736\n",
      "Epoch 96/100\n",
      "378/378 [==============================] - 0s 702us/step - loss: 0.3442 - accuracy: 0.8726\n",
      "Epoch 97/100\n",
      "378/378 [==============================] - 0s 704us/step - loss: 0.3460 - accuracy: 0.8734\n",
      "Epoch 98/100\n",
      "378/378 [==============================] - 0s 710us/step - loss: 0.3444 - accuracy: 0.8722\n",
      "Epoch 99/100\n",
      "378/378 [==============================] - 0s 702us/step - loss: 0.3446 - accuracy: 0.8726\n",
      "Epoch 100/100\n",
      "378/378 [==============================] - 0s 708us/step - loss: 0.3449 - accuracy: 0.8721\n"
>>>>>>> bdb7213be4bf37e6bf71e31ffa935fc8c297fef9
     ]
    },
    {
     "data": {
      "text/plain": [
<<<<<<< HEAD
       "<tensorflow.python.keras.callbacks.History at 0x1e7c115e9c8>"
      ]
     },
     "execution_count": 43,
=======
       "<tensorflow.python.keras.callbacks.History at 0x7fd23cdcfb90>"
      ]
     },
     "execution_count": 29,
>>>>>>> bdb7213be4bf37e6bf71e31ffa935fc8c297fef9
     "metadata": {},
     "output_type": "execute_result"
    }
   ],
   "source": [
    "# Fit (train) the model\n",
    "Fatality_classifier.fit(X_train, y_train_categorical, epochs=200, shuffle=True, verbose=1)"
   ]
  },
  {
   "cell_type": "code",
<<<<<<< HEAD
   "execution_count": 45,
=======
   "execution_count": 30,
>>>>>>> bdb7213be4bf37e6bf71e31ffa935fc8c297fef9
   "metadata": {},
   "outputs": [
    {
     "name": "stdout",
     "output_type": "stream",
     "text": [
<<<<<<< HEAD
      "4024/4024 - 0s - loss: 0.3820 - acc: 0.8638\n",
      "Normal Neural Network - Loss: 0.38195575234548707, Accuracy: 0.8638170957565308\n"
=======
      "126/126 - 0s - loss: 0.3923 - accuracy: 0.8596\n",
      "Normal Neural Network - Loss: 0.39229854941368103, Accuracy: 0.8595924377441406\n"
>>>>>>> bdb7213be4bf37e6bf71e31ffa935fc8c297fef9
     ]
    }
   ],
   "source": [
    "#Quantify our Trained Model\n",
    "model_loss, model_accuracy = Fatality_classifier.evaluate(\n",
    "    X_test, y_test_categorical, verbose=2)\n",
    "print(\n",
    "    f\"Normal Neural Network - Loss: {model_loss}, Accuracy: {model_accuracy}\")"
   ]
  },
  {
   "cell_type": "markdown",
   "metadata": {},
   "source": [
    "Make predictions"
   ]
  },
  {
   "cell_type": "code",
<<<<<<< HEAD
   "execution_count": 46,
=======
   "execution_count": 31,
>>>>>>> bdb7213be4bf37e6bf71e31ffa935fc8c297fef9
   "metadata": {},
   "outputs": [
    {
     "name": "stdout",
     "output_type": "stream",
     "text": [
      "WARNING:tensorflow:From <ipython-input-31-c910890d1a2e>:1: Sequential.predict_classes (from tensorflow.python.keras.engine.sequential) is deprecated and will be removed after 2021-01-01.\n",
      "Instructions for updating:\n",
      "Please use instead:* `np.argmax(model.predict(x), axis=-1)`,   if your model does multi-class classification   (e.g. if it uses a `softmax` last-layer activation).* `(model.predict(x) > 0.5).astype(\"int32\")`,   if your model does binary classification   (e.g. if it uses a `sigmoid` last-layer activation).\n"
     ]
    },
    {
     "data": {
      "text/html": [
       "<div>\n",
       "<style scoped>\n",
       "    .dataframe tbody tr th:only-of-type {\n",
       "        vertical-align: middle;\n",
       "    }\n",
       "\n",
       "    .dataframe tbody tr th {\n",
       "        vertical-align: top;\n",
       "    }\n",
       "\n",
       "    .dataframe thead th {\n",
       "        text-align: right;\n",
       "    }\n",
       "</style>\n",
       "<table border=\"1\" class=\"dataframe\">\n",
       "  <thead>\n",
       "    <tr style=\"text-align: right;\">\n",
       "      <th></th>\n",
       "      <th>Prediction</th>\n",
       "      <th>Actual</th>\n",
       "    </tr>\n",
       "  </thead>\n",
       "  <tbody>\n",
       "    <tr>\n",
       "      <th>5633</th>\n",
       "      <td>Non-Fatal Injury</td>\n",
       "      <td>Non-Fatal Injury</td>\n",
       "    </tr>\n",
       "    <tr>\n",
       "      <th>3745</th>\n",
       "      <td>Non-Fatal Injury</td>\n",
       "      <td>Fatal</td>\n",
       "    </tr>\n",
       "    <tr>\n",
       "      <th>3497</th>\n",
       "      <td>Non-Fatal Injury</td>\n",
       "      <td>Non-Fatal Injury</td>\n",
       "    </tr>\n",
       "    <tr>\n",
       "      <th>2305</th>\n",
       "      <td>Non-Fatal Injury</td>\n",
       "      <td>Non-Fatal Injury</td>\n",
       "    </tr>\n",
       "    <tr>\n",
       "      <th>14492</th>\n",
       "      <td>Non-Fatal Injury</td>\n",
       "      <td>Fatal</td>\n",
       "    </tr>\n",
       "    <tr>\n",
       "      <th>...</th>\n",
       "      <td>...</td>\n",
       "      <td>...</td>\n",
       "    </tr>\n",
       "    <tr>\n",
       "      <th>13839</th>\n",
       "      <td>Non-Fatal Injury</td>\n",
       "      <td>Non-Fatal Injury</td>\n",
       "    </tr>\n",
       "    <tr>\n",
       "      <th>913</th>\n",
       "      <td>Non-Fatal Injury</td>\n",
       "      <td>Fatal</td>\n",
       "    </tr>\n",
       "    <tr>\n",
       "      <th>2588</th>\n",
       "      <td>Non-Fatal Injury</td>\n",
       "      <td>Non-Fatal Injury</td>\n",
       "    </tr>\n",
       "    <tr>\n",
       "      <th>3308</th>\n",
       "      <td>Non-Fatal Injury</td>\n",
       "      <td>Non-Fatal Injury</td>\n",
       "    </tr>\n",
       "    <tr>\n",
       "      <th>12966</th>\n",
       "      <td>Non-Fatal Injury</td>\n",
       "      <td>Non-Fatal Injury</td>\n",
       "    </tr>\n",
       "  </tbody>\n",
       "</table>\n",
       "<p>4024 rows × 2 columns</p>\n",
       "</div>"
      ],
      "text/plain": [
       "             Prediction            Actual\n",
       "5633   Non-Fatal Injury  Non-Fatal Injury\n",
       "3745   Non-Fatal Injury             Fatal\n",
       "3497   Non-Fatal Injury  Non-Fatal Injury\n",
       "2305   Non-Fatal Injury  Non-Fatal Injury\n",
       "14492  Non-Fatal Injury             Fatal\n",
       "...                 ...               ...\n",
       "13839  Non-Fatal Injury  Non-Fatal Injury\n",
       "913    Non-Fatal Injury             Fatal\n",
       "2588   Non-Fatal Injury  Non-Fatal Injury\n",
       "3308   Non-Fatal Injury  Non-Fatal Injury\n",
       "12966  Non-Fatal Injury  Non-Fatal Injury\n",
       "\n",
       "[4024 rows x 2 columns]"
      ]
     },
<<<<<<< HEAD
     "execution_count": 46,
=======
     "execution_count": 31,
>>>>>>> bdb7213be4bf37e6bf71e31ffa935fc8c297fef9
     "metadata": {},
     "output_type": "execute_result"
    }
   ],
   "source": [
    "predictions = Fatality_classifier.predict_classes(X_test)\n",
    "prediction_labels = label_encoder.inverse_transform(predictions)\n",
    "result_df=pd.DataFrame({\"Prediction\": prediction_labels, \"Actual\": y_test})\n",
    "result_df"
   ]
  },
  {
   "cell_type": "code",
<<<<<<< HEAD
   "execution_count": 47,
=======
   "execution_count": 32,
>>>>>>> bdb7213be4bf37e6bf71e31ffa935fc8c297fef9
   "metadata": {},
   "outputs": [],
   "source": [
    "#result_df.to_csv(\"prediction_result_NN4.csv\" ) "
   ]
  },
  {
   "cell_type": "code",
<<<<<<< HEAD
   "execution_count": 50,
=======
   "execution_count": 33,
>>>>>>> bdb7213be4bf37e6bf71e31ffa935fc8c297fef9
   "metadata": {},
   "outputs": [
    {
     "data": {
      "text/plain": [
<<<<<<< HEAD
       "Prediction    55\n",
       "Actual        55\n",
       "dtype: int64"
      ]
     },
     "execution_count": 50,
=======
       "Prediction    172\n",
       "Actual        172\n",
       "dtype: int64"
      ]
     },
     "execution_count": 33,
>>>>>>> bdb7213be4bf37e6bf71e31ffa935fc8c297fef9
     "metadata": {},
     "output_type": "execute_result"
    }
   ],
   "source": [
    "result_df.loc[result_df[\"Prediction\"]==\"Fatal\"].count()"
   ]
  },
  {
<<<<<<< HEAD
   "cell_type": "markdown",
   "metadata": {},
=======
   "cell_type": "code",
   "execution_count": 34,
   "metadata": {},
   "outputs": [
    {
     "data": {
      "text/plain": [
       "Prediction    172\n",
       "Actual        172\n",
       "dtype: int64"
      ]
     },
     "execution_count": 34,
     "metadata": {},
     "output_type": "execute_result"
    }
   ],
>>>>>>> bdb7213be4bf37e6bf71e31ffa935fc8c297fef9
   "source": [
    "Confusion matrix"
   ]
  },
  {
   "cell_type": "code",
<<<<<<< HEAD
   "execution_count": 51,
=======
   "execution_count": 35,
>>>>>>> bdb7213be4bf37e6bf71e31ffa935fc8c297fef9
   "metadata": {},
   "outputs": [
    {
     "data": {
      "text/html": [
       "<div>\n",
       "<style scoped>\n",
       "    .dataframe tbody tr th:only-of-type {\n",
       "        vertical-align: middle;\n",
       "    }\n",
       "\n",
       "    .dataframe tbody tr th {\n",
       "        vertical-align: top;\n",
       "    }\n",
       "\n",
       "    .dataframe thead th {\n",
       "        text-align: right;\n",
       "    }\n",
       "</style>\n",
       "<table border=\"1\" class=\"dataframe\">\n",
       "  <thead>\n",
       "    <tr style=\"text-align: right;\">\n",
       "      <th></th>\n",
       "      <th>Prediction:Fatal</th>\n",
       "      <th>Prediction:Non-Fatal</th>\n",
       "    </tr>\n",
       "  </thead>\n",
       "  <tbody>\n",
       "    <tr>\n",
       "      <th>Actual:Fatal</th>\n",
<<<<<<< HEAD
       "      <td>25</td>\n",
       "      <td>518</td>\n",
       "    </tr>\n",
       "    <tr>\n",
       "      <th>Actual:Non-Fatal</th>\n",
       "      <td>30</td>\n",
       "      <td>3451</td>\n",
=======
       "      <td>75</td>\n",
       "      <td>468</td>\n",
       "    </tr>\n",
       "    <tr>\n",
       "      <th>Actual:Non-Fatal</th>\n",
       "      <td>97</td>\n",
       "      <td>3384</td>\n",
>>>>>>> bdb7213be4bf37e6bf71e31ffa935fc8c297fef9
       "    </tr>\n",
       "  </tbody>\n",
       "</table>\n",
       "</div>"
      ],
      "text/plain": [
       "                  Prediction:Fatal  Prediction:Non-Fatal\n",
<<<<<<< HEAD
       "Actual:Fatal                    25                   518\n",
       "Actual:Non-Fatal                30                  3451"
      ]
     },
     "execution_count": 51,
=======
       "Actual:Fatal                    75                   468\n",
       "Actual:Non-Fatal                97                  3384"
      ]
     },
     "execution_count": 35,
>>>>>>> bdb7213be4bf37e6bf71e31ffa935fc8c297fef9
     "metadata": {},
     "output_type": "execute_result"
    }
   ],
   "source": [
    "# Create Confution matrix\n",
    "\n",
    "from sklearn.metrics import confusion_matrix\n",
    "\n",
    "pd.DataFrame(\n",
    "    confusion_matrix(y_test, prediction_labels),\n",
    "    columns=['Prediction:Fatal', 'Prediction:Non-Fatal'],\n",
    "    index=['Actual:Fatal', 'Actual:Non-Fatal']\n",
    ")"
   ]
  },
  {
   "cell_type": "code",
<<<<<<< HEAD
   "execution_count": 52,
=======
   "execution_count": 36,
>>>>>>> bdb7213be4bf37e6bf71e31ffa935fc8c297fef9
   "metadata": {},
   "outputs": [
    {
     "name": "stdout",
     "output_type": "stream",
     "text": [
      "Neural Network model ------------------------------------------\n",
      "                  precision    recall  f1-score   support\n",
      "\n",
<<<<<<< HEAD
      "           Fatal       0.45      0.05      0.08       543\n",
      "Non-Fatal Injury       0.87      0.99      0.93      3481\n",
      "\n",
      "        accuracy                           0.86      4024\n",
      "       macro avg       0.66      0.52      0.51      4024\n",
      "    weighted avg       0.81      0.86      0.81      4024\n",
=======
      "           Fatal       0.44      0.14      0.21       543\n",
      "Non-Fatal Injury       0.88      0.97      0.92      3481\n",
      "\n",
      "        accuracy                           0.86      4024\n",
      "       macro avg       0.66      0.56      0.57      4024\n",
      "    weighted avg       0.82      0.86      0.83      4024\n",
>>>>>>> bdb7213be4bf37e6bf71e31ffa935fc8c297fef9
      "\n"
     ]
    }
   ],
   "source": [
    "# Calculate classification report\n",
    "from sklearn.metrics import classification_report\n",
    "print(\"Neural Network model ------------------------------------------\")\n",
    "print(classification_report(y_test, prediction_labels,\n",
    "                            target_names=[\"Fatal\", \"Non-Fatal Injury\"]))"
   ]
  },
  {
   "cell_type": "code",
   "execution_count": 3,
   "metadata": {},
   "outputs": [],
   "source": [
    "# install joblib. This will be used to save your model. \n",
    "#!pip install joblib\n",
    "import joblib"
   ]
  },
  {
   "cell_type": "markdown",
   "metadata": {},
   "source": [
    "######## List for user to select  (for the drop down menu)"
   ]
  },
  {
   "cell_type": "code",
   "execution_count": 37,
   "metadata": {},
   "outputs": [
    {
     "name": "stdout",
     "output_type": "stream",
     "text": [
      "Features are under the 6 categories: \n",
      "---------------------------------\n",
      "#1.HOUR:\n",
      " [0, 1, 2, 3, 4, 5, 6, 7, 8, 9, 10, 11, 12, 13, 14, 15, 16, 17, 18, 19, 20, 21, 22, 23]\n",
      "#2.ROAD CLASS:\n",
      "['Collector', 'Expressway', 'Laneway', 'Local', 'Major Arterial', 'Major Arterial Ramp', 'Minor Arterial', 'Other', 'Pending', 'Unknown']\n",
      "#3.Traffic Control:\n",
      "['No Control', 'PXO - No Ped', 'Pedestrian Crossover', 'Police Control', 'School Guard', 'Stop Sign', 'Streetcar (Stop for)', 'Traffic Controller', 'Traffic Gate', 'Traffic Signal', 'Unknown', 'Yield Sign']\n",
      "#4.Visibility:\n",
      "['Clear', 'Drifting Snow', 'Fog, Mist, Smoke, Dust', 'Freezing Rain', 'Other', 'Rain', 'Snow', 'Strong wind', 'Unknown']\n",
      "#5.Light:\n",
      "['Dark', 'Dark, artificial', 'Dawn', 'Dawn, artificial', 'Daylight', 'Daylight, artificial', 'Dusk', 'Dusk, artificial', 'Other']\n",
      "#6.Road Condition:\n",
      "['Dry', 'Ice', 'Loose Sand or Gravel', 'Loose Snow', 'Other', 'Packed Snow', 'Slush', 'Spilled liquid', 'Unknown', 'Wet']\n"
     ]
    }
   ],
   "source": [
    "HOUR_labels = list(HOUR_LE.classes_)\n",
    "ROADCLASS_labels = list(Road_class_LE.classes_)\n",
    "TRAFFCTL_labels = list(TRAFFCTL_LE.classes_)\n",
    "VISIBILITY_labels = list(VISIBILITY_LE.classes_)\n",
    "LIGHT_labels = list(LIGHT_LE.classes_)\n",
    "RDSFCOND_labels = list(RDSFCOND_LE.classes_)\n",
    "\n",
    "print(\"Features are under the 6 categories: \")\n",
    "print(\"---------------------------------\")\n",
    "print(f\"#1.HOUR:\\n {HOUR_labels}\") \n",
    "print(f\"#2.ROAD CLASS:\\n{ROADCLASS_labels}\") \n",
    "print(f\"#3.Traffic Control:\\n{TRAFFCTL_labels}\") \n",
    "print(f\"#4.Visibility:\\n{VISIBILITY_labels}\") \n",
    "print(f\"#5.Light:\\n{LIGHT_labels}\") \n",
    "print(f\"#6.Road Condition:\\n{RDSFCOND_labels}\") \n",
    "\n",
    "# User can select from the drop down menu except \"Other\", \"Unknown\"\n",
    "# if user select 11 for HOUR category, it means user drives or on the road b/t 11 ~ 12"
   ]
  },
  {
   "cell_type": "code",
   "execution_count": 38,
   "metadata": {},
   "outputs": [],
   "source": [
    "# save the model\n",
    "Fatality_classifier.save(\"mdl-neuralnetwork.h5\")"
   ]
  },
  {
   "cell_type": "code",
   "execution_count": null,
   "metadata": {},
   "outputs": [],
   "source": []
  }
 ],
 "metadata": {
  "kernelspec": {
   "display_name": "Python 3",
   "language": "python",
   "name": "python3"
  },
  "language_info": {
   "codemirror_mode": {
    "name": "ipython",
    "version": 3
   },
   "file_extension": ".py",
   "mimetype": "text/x-python",
   "name": "python",
   "nbconvert_exporter": "python",
   "pygments_lexer": "ipython3",
   "version": "3.7.6"
  },
  "toc": {
   "base_numbering": 1,
   "nav_menu": {},
   "number_sections": true,
   "sideBar": true,
   "skip_h1_title": false,
   "title_cell": "Table of Contents",
   "title_sidebar": "Contents",
   "toc_cell": false,
   "toc_position": {},
   "toc_section_display": true,
   "toc_window_display": false
  }
 },
 "nbformat": 4,
 "nbformat_minor": 4
}
